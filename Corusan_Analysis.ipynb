{
 "cells": [
  {
   "cell_type": "markdown",
   "id": "41d73b8a",
   "metadata": {},
   "source": [
    "# Corusan Analysis"
   ]
  },
  {
   "cell_type": "code",
   "execution_count": 1,
   "id": "d45bebda",
   "metadata": {},
   "outputs": [],
   "source": [
    "import pandas as pd\n",
    "import numpy as np\n",
    "import datetime as dt\n",
    "import matplotlib.pyplot as plt\n",
    "import seaborn as sns\n",
    "import statsmodels.api as sm\n",
    "import statistics as stat\n",
    "\n",
    "from pylab import rcParams\n",
    "import warnings\n",
    "warnings.filterwarnings(\"ignore\")\n",
    "rcParams['figure.figsize'] = 18, 8\n",
    "pd.set_option('display.max_columns',500)"
   ]
  },
  {
   "cell_type": "code",
   "execution_count": 2,
   "id": "ff29de63",
   "metadata": {},
   "outputs": [],
   "source": [
    "plan19 = pd.read_excel('Prueba consultores Junio 2022.xlsx',sheet_name='Plantilla a Julio 2019')\n",
    "df_bajas = pd.read_excel('Prueba consultores Junio 2022.xlsx',sheet_name='Bajas de Agosto 2019')\n",
    "df_altas = pd.read_excel('Prueba consultores Junio 2022.xlsx',sheet_name='Altas de Agosto 2019')\n",
    "\n",
    "\n",
    "#Creamos columna con antigüedad en dias y años para cada empledo\n",
    "plan19['Fecha de Alta'] = pd.to_datetime(plan19['Fecha de Alta'])\n",
    "plan19['antiguedad (días)'] = (dt.datetime.now()-plan19['Fecha de Alta']).dt.days\n",
    "plan19['antiguedad (años)']= plan19['antiguedad (días)']/365\n",
    "\n",
    "plan19['Fecha3']=plan19['Fecha de Alta'].astype(str)\n",
    "plan19[['año_alta','mes_alta','dia_alta']]=plan19['Fecha3'].str.split('-', expand=True)\n",
    "plan19['mes_alta']=plan19['mes_alta'].astype(int)\n",
    "plan19['año_alta']=plan19['año_alta'].astype(int)\n",
    "plan19['Año']=plan19['Año'].astype(int)\n",
    "\n",
    "plan19[\"Localización País\"] = plan19[\"Localización País\"].replace(\"SÃO PAULO\",\"São Paulo\")\n",
    "plan19[\"Localización País\"] = plan19[\"Localización País\"].replace(\"Sao Paulo\",\"São Paulo\")\n",
    "plan19[\"Localización País\"] = plan19[\"Localización País\"].replace(\"SAO PAULO\",\"São Paulo\")\n",
    "\n",
    "\n",
    "#Creamos columna edad\n",
    "plan19['edad (días)'] = (dt.datetime.now()-plan19['Fecha de Nacimiento']).dt.days\n",
    "plan19['edad (años)']= plan19['edad (días)']/365\n",
    "\n",
    "df_altas['edad (días)'] = (dt.datetime.now()-df_altas['Fecha nacimiento']).dt.days\n",
    "df_altas['edad (años)']= df_altas['edad (días)']/365\n",
    "\n",
    "df_bajas['edad (días)'] = (dt.datetime.now()-df_bajas['Fecha nacimiento']).dt.days\n",
    "df_bajas['edad (años)']= df_bajas['edad (días)']/365"
   ]
  },
  {
   "cell_type": "code",
   "execution_count": 533,
   "id": "48bae693",
   "metadata": {},
   "outputs": [
    {
     "data": {
      "text/html": [
       "<div>\n",
       "<style scoped>\n",
       "    .dataframe tbody tr th:only-of-type {\n",
       "        vertical-align: middle;\n",
       "    }\n",
       "\n",
       "    .dataframe tbody tr th {\n",
       "        vertical-align: top;\n",
       "    }\n",
       "\n",
       "    .dataframe thead th {\n",
       "        text-align: right;\n",
       "    }\n",
       "</style>\n",
       "<table border=\"1\" class=\"dataframe\">\n",
       "  <thead>\n",
       "    <tr style=\"text-align: right;\">\n",
       "      <th></th>\n",
       "      <th>Convenio Aplicable</th>\n",
       "      <th>Localización País</th>\n",
       "      <th>Área Funcional</th>\n",
       "      <th>Localización Ciudad</th>\n",
       "      <th>Subactividad_desc</th>\n",
       "      <th>Año</th>\n",
       "      <th>COD. UNIDAD DE NEGOCIO</th>\n",
       "      <th>Mes</th>\n",
       "      <th>Reducción de Jormada</th>\n",
       "      <th>Tipo de contrato</th>\n",
       "      <th>División</th>\n",
       "      <th>Subactividad</th>\n",
       "      <th>Género</th>\n",
       "      <th>Departamento</th>\n",
       "      <th>HORAS TEÓRICAS SEMANALES POR UNIDAD DE NEGOCIO</th>\n",
       "      <th>Nombre del puesto</th>\n",
       "      <th>Nacionalidad</th>\n",
       "      <th>Estado de empleado</th>\n",
       "      <th>PROMEDIO DE HORAS  SEMANALES TRABAJADAS EN EL MES</th>\n",
       "      <th>Fecha de Nacimiento</th>\n",
       "      <th>Clase de empleado</th>\n",
       "      <th>Discapacidad</th>\n",
       "      <th>Fecha de Alta</th>\n",
       "      <th>ID persona</th>\n",
       "      <th>antiguedad (días)</th>\n",
       "      <th>antiguedad (años)</th>\n",
       "      <th>Fecha3</th>\n",
       "      <th>año_alta</th>\n",
       "      <th>mes_alta</th>\n",
       "      <th>dia_alta</th>\n",
       "      <th>edad (días)</th>\n",
       "      <th>edad (años)</th>\n",
       "    </tr>\n",
       "  </thead>\n",
       "  <tbody>\n",
       "    <tr>\n",
       "      <th>0</th>\n",
       "      <td>Sí</td>\n",
       "      <td>España</td>\n",
       "      <td>Red - Planificación Tecnológica</td>\n",
       "      <td>VIZCAYA</td>\n",
       "      <td>tecnologíayplanificación</td>\n",
       "      <td>2019</td>\n",
       "      <td>156</td>\n",
       "      <td>Jul</td>\n",
       "      <td>No</td>\n",
       "      <td>Fijo</td>\n",
       "      <td>OPERACIONES, RED Y TI</td>\n",
       "      <td>Tecnología y Planificación</td>\n",
       "      <td>M</td>\n",
       "      <td>ESTRAT. Y DESARR. DE RED E INFRAESTR. TI</td>\n",
       "      <td>37.5</td>\n",
       "      <td>ENCARGADO DE OPERACION</td>\n",
       "      <td>ESPAÑOLA</td>\n",
       "      <td>Activo</td>\n",
       "      <td>37.5</td>\n",
       "      <td>1954-09-08</td>\n",
       "      <td>EMP</td>\n",
       "      <td>No</td>\n",
       "      <td>1978-12-21</td>\n",
       "      <td>Persona 1716852</td>\n",
       "      <td>15879</td>\n",
       "      <td>43.504110</td>\n",
       "      <td>1978-12-21</td>\n",
       "      <td>1978</td>\n",
       "      <td>12</td>\n",
       "      <td>21</td>\n",
       "      <td>24749</td>\n",
       "      <td>67.805479</td>\n",
       "    </tr>\n",
       "    <tr>\n",
       "      <th>1</th>\n",
       "      <td>Sí</td>\n",
       "      <td>España</td>\n",
       "      <td>Red - Planificación Tecnológica</td>\n",
       "      <td>ALICANTE</td>\n",
       "      <td>tecnologíayplanificación</td>\n",
       "      <td>2019</td>\n",
       "      <td>156</td>\n",
       "      <td>Jul</td>\n",
       "      <td>No</td>\n",
       "      <td>Fijo</td>\n",
       "      <td>OPERACIONES, RED Y TI</td>\n",
       "      <td>Tecnología y Planificación</td>\n",
       "      <td>M</td>\n",
       "      <td>ESTRAT. Y DESARR. DE RED E INFRAESTR. TI</td>\n",
       "      <td>37.5</td>\n",
       "      <td>TITULADO SUPERIOR O MASTER</td>\n",
       "      <td>ESPAÑOLA</td>\n",
       "      <td>Activo</td>\n",
       "      <td>37.5</td>\n",
       "      <td>1952-02-12</td>\n",
       "      <td>EMP</td>\n",
       "      <td>No</td>\n",
       "      <td>1979-07-13</td>\n",
       "      <td>Persona 1716853</td>\n",
       "      <td>15675</td>\n",
       "      <td>42.945205</td>\n",
       "      <td>1979-07-13</td>\n",
       "      <td>1979</td>\n",
       "      <td>7</td>\n",
       "      <td>13</td>\n",
       "      <td>25688</td>\n",
       "      <td>70.378082</td>\n",
       "    </tr>\n",
       "    <tr>\n",
       "      <th>2</th>\n",
       "      <td>No</td>\n",
       "      <td>España</td>\n",
       "      <td>Direccion</td>\n",
       "      <td>TARRAGONA</td>\n",
       "      <td>gestionydireccion</td>\n",
       "      <td>2019</td>\n",
       "      <td>156</td>\n",
       "      <td>Jul</td>\n",
       "      <td>No</td>\n",
       "      <td>Fijo</td>\n",
       "      <td>CONSEJERA DELEGADA COO</td>\n",
       "      <td>Gestión y Direccion</td>\n",
       "      <td>M</td>\n",
       "      <td>MAYORISTA</td>\n",
       "      <td>37.5</td>\n",
       "      <td>TITULADO SUPERIOR O MASTER</td>\n",
       "      <td>ESPAÑOLA</td>\n",
       "      <td>Activo</td>\n",
       "      <td>37.5</td>\n",
       "      <td>1954-06-07</td>\n",
       "      <td>EMP</td>\n",
       "      <td>No</td>\n",
       "      <td>1981-12-01</td>\n",
       "      <td>Persona 1716854</td>\n",
       "      <td>14803</td>\n",
       "      <td>40.556164</td>\n",
       "      <td>1981-12-01</td>\n",
       "      <td>1981</td>\n",
       "      <td>12</td>\n",
       "      <td>01</td>\n",
       "      <td>24842</td>\n",
       "      <td>68.060274</td>\n",
       "    </tr>\n",
       "    <tr>\n",
       "      <th>3</th>\n",
       "      <td>Sí</td>\n",
       "      <td>España</td>\n",
       "      <td>Red - Planificación Tecnológica</td>\n",
       "      <td>HUESCA</td>\n",
       "      <td>tecnologíayplanificación</td>\n",
       "      <td>2019</td>\n",
       "      <td>156</td>\n",
       "      <td>Jul</td>\n",
       "      <td>No</td>\n",
       "      <td>Fijo</td>\n",
       "      <td>OPERACIONES, RED Y TI</td>\n",
       "      <td>Tecnología y Planificación</td>\n",
       "      <td>M</td>\n",
       "      <td>ESTRAT. Y DESARR. DE RED E INFRAESTR. TI</td>\n",
       "      <td>37.5</td>\n",
       "      <td>OPERADOR DE COMUNICACIONES</td>\n",
       "      <td>ESPAÑOLA</td>\n",
       "      <td>Activo</td>\n",
       "      <td>37.5</td>\n",
       "      <td>1956-06-04</td>\n",
       "      <td>EMP</td>\n",
       "      <td>No</td>\n",
       "      <td>1981-12-01</td>\n",
       "      <td>Persona 1716855</td>\n",
       "      <td>14803</td>\n",
       "      <td>40.556164</td>\n",
       "      <td>1981-12-01</td>\n",
       "      <td>1981</td>\n",
       "      <td>12</td>\n",
       "      <td>01</td>\n",
       "      <td>24114</td>\n",
       "      <td>66.065753</td>\n",
       "    </tr>\n",
       "    <tr>\n",
       "      <th>4</th>\n",
       "      <td>Sí</td>\n",
       "      <td>España</td>\n",
       "      <td>Direccion</td>\n",
       "      <td>MADRID</td>\n",
       "      <td>gestionydireccion</td>\n",
       "      <td>2019</td>\n",
       "      <td>156</td>\n",
       "      <td>Jul</td>\n",
       "      <td>No</td>\n",
       "      <td>Fijo</td>\n",
       "      <td>ESTRATEGIA</td>\n",
       "      <td>Gestión y Direccion</td>\n",
       "      <td>M</td>\n",
       "      <td>PLANIFICACION NEGOCIO Y TRANSF DIGITAL</td>\n",
       "      <td>37.5</td>\n",
       "      <td>TITULADO SUPERIOR O MASTER</td>\n",
       "      <td>ESPAÑOLA</td>\n",
       "      <td>Activo</td>\n",
       "      <td>37.5</td>\n",
       "      <td>1966-12-01</td>\n",
       "      <td>EMP</td>\n",
       "      <td>No</td>\n",
       "      <td>1986-12-15</td>\n",
       "      <td>Persona 1716856</td>\n",
       "      <td>12963</td>\n",
       "      <td>35.515068</td>\n",
       "      <td>1986-12-15</td>\n",
       "      <td>1986</td>\n",
       "      <td>12</td>\n",
       "      <td>15</td>\n",
       "      <td>20282</td>\n",
       "      <td>55.567123</td>\n",
       "    </tr>\n",
       "  </tbody>\n",
       "</table>\n",
       "</div>"
      ],
      "text/plain": [
       "  Convenio Aplicable Localización País                   Área Funcional  \\\n",
       "0                 Sí            España  Red - Planificación Tecnológica   \n",
       "1                 Sí            España  Red - Planificación Tecnológica   \n",
       "2                 No            España                        Direccion   \n",
       "3                 Sí            España  Red - Planificación Tecnológica   \n",
       "4                 Sí            España                        Direccion   \n",
       "\n",
       "  Localización Ciudad         Subactividad_desc   Año  COD. UNIDAD DE NEGOCIO  \\\n",
       "0             VIZCAYA  tecnologíayplanificación  2019                     156   \n",
       "1            ALICANTE  tecnologíayplanificación  2019                     156   \n",
       "2           TARRAGONA         gestionydireccion  2019                     156   \n",
       "3              HUESCA  tecnologíayplanificación  2019                     156   \n",
       "4              MADRID         gestionydireccion  2019                     156   \n",
       "\n",
       "   Mes Reducción de Jormada Tipo de contrato                División  \\\n",
       "0  Jul                   No             Fijo   OPERACIONES, RED Y TI   \n",
       "1  Jul                   No             Fijo   OPERACIONES, RED Y TI   \n",
       "2  Jul                   No             Fijo  CONSEJERA DELEGADA COO   \n",
       "3  Jul                   No             Fijo   OPERACIONES, RED Y TI   \n",
       "4  Jul                   No             Fijo              ESTRATEGIA   \n",
       "\n",
       "                 Subactividad Género  \\\n",
       "0  Tecnología y Planificación      M   \n",
       "1  Tecnología y Planificación      M   \n",
       "2         Gestión y Direccion      M   \n",
       "3  Tecnología y Planificación      M   \n",
       "4         Gestión y Direccion      M   \n",
       "\n",
       "                               Departamento  \\\n",
       "0  ESTRAT. Y DESARR. DE RED E INFRAESTR. TI   \n",
       "1  ESTRAT. Y DESARR. DE RED E INFRAESTR. TI   \n",
       "2                                 MAYORISTA   \n",
       "3  ESTRAT. Y DESARR. DE RED E INFRAESTR. TI   \n",
       "4    PLANIFICACION NEGOCIO Y TRANSF DIGITAL   \n",
       "\n",
       "   HORAS TEÓRICAS SEMANALES POR UNIDAD DE NEGOCIO           Nombre del puesto  \\\n",
       "0                                            37.5      ENCARGADO DE OPERACION   \n",
       "1                                            37.5  TITULADO SUPERIOR O MASTER   \n",
       "2                                            37.5  TITULADO SUPERIOR O MASTER   \n",
       "3                                            37.5  OPERADOR DE COMUNICACIONES   \n",
       "4                                            37.5  TITULADO SUPERIOR O MASTER   \n",
       "\n",
       "  Nacionalidad Estado de empleado  \\\n",
       "0     ESPAÑOLA             Activo   \n",
       "1     ESPAÑOLA             Activo   \n",
       "2     ESPAÑOLA             Activo   \n",
       "3     ESPAÑOLA             Activo   \n",
       "4     ESPAÑOLA             Activo   \n",
       "\n",
       "   PROMEDIO DE HORAS  SEMANALES TRABAJADAS EN EL MES Fecha de Nacimiento  \\\n",
       "0                                               37.5          1954-09-08   \n",
       "1                                               37.5          1952-02-12   \n",
       "2                                               37.5          1954-06-07   \n",
       "3                                               37.5          1956-06-04   \n",
       "4                                               37.5          1966-12-01   \n",
       "\n",
       "  Clase de empleado Discapacidad Fecha de Alta       ID persona  \\\n",
       "0               EMP           No    1978-12-21  Persona 1716852   \n",
       "1               EMP           No    1979-07-13  Persona 1716853   \n",
       "2               EMP           No    1981-12-01  Persona 1716854   \n",
       "3               EMP           No    1981-12-01  Persona 1716855   \n",
       "4               EMP           No    1986-12-15  Persona 1716856   \n",
       "\n",
       "   antiguedad (días)  antiguedad (años)      Fecha3  año_alta  mes_alta  \\\n",
       "0              15879          43.504110  1978-12-21      1978        12   \n",
       "1              15675          42.945205  1979-07-13      1979         7   \n",
       "2              14803          40.556164  1981-12-01      1981        12   \n",
       "3              14803          40.556164  1981-12-01      1981        12   \n",
       "4              12963          35.515068  1986-12-15      1986        12   \n",
       "\n",
       "  dia_alta  edad (días)  edad (años)  \n",
       "0       21        24749    67.805479  \n",
       "1       13        25688    70.378082  \n",
       "2       01        24842    68.060274  \n",
       "3       01        24114    66.065753  \n",
       "4       15        20282    55.567123  "
      ]
     },
     "execution_count": 533,
     "metadata": {},
     "output_type": "execute_result"
    }
   ],
   "source": [
    "plan19.head()"
   ]
  },
  {
   "cell_type": "code",
   "execution_count": 454,
   "id": "33c38784",
   "metadata": {
    "scrolled": true
   },
   "outputs": [
    {
     "data": {
      "text/html": [
       "<div>\n",
       "<style scoped>\n",
       "    .dataframe tbody tr th:only-of-type {\n",
       "        vertical-align: middle;\n",
       "    }\n",
       "\n",
       "    .dataframe tbody tr th {\n",
       "        vertical-align: top;\n",
       "    }\n",
       "\n",
       "    .dataframe thead th {\n",
       "        text-align: right;\n",
       "    }\n",
       "</style>\n",
       "<table border=\"1\" class=\"dataframe\">\n",
       "  <thead>\n",
       "    <tr style=\"text-align: right;\">\n",
       "      <th></th>\n",
       "      <th>Subactividad_desc</th>\n",
       "      <th>Subactividad</th>\n",
       "      <th>Genero</th>\n",
       "      <th>Fecha nacimiento</th>\n",
       "      <th>Clase empleado</th>\n",
       "      <th>Nombre del puesto</th>\n",
       "      <th>COD. UNIDAD DE NEGOCIO</th>\n",
       "      <th>Fecha alta</th>\n",
       "      <th>Tipo alta local</th>\n",
       "      <th>Tipo alta global</th>\n",
       "      <th>ID Persona</th>\n",
       "      <th>edad (días)</th>\n",
       "      <th>edad (años)</th>\n",
       "    </tr>\n",
       "  </thead>\n",
       "  <tbody>\n",
       "    <tr>\n",
       "      <th>0</th>\n",
       "      <td>tecnologíayplanificación</td>\n",
       "      <td>Tecnología y Planificación</td>\n",
       "      <td>M</td>\n",
       "      <td>1966-06-27</td>\n",
       "      <td>EMP</td>\n",
       "      <td>OPERADOR DE COMUNICACIONES</td>\n",
       "      <td>156</td>\n",
       "      <td>2019-08-28</td>\n",
       "      <td>c.2) Reincorporaciones</td>\n",
       "      <td>c.2) Reincorporaciones</td>\n",
       "      <td>Persona 19887</td>\n",
       "      <td>20439</td>\n",
       "      <td>55.997260</td>\n",
       "    </tr>\n",
       "    <tr>\n",
       "      <th>1</th>\n",
       "      <td>tecnologíayplanificación</td>\n",
       "      <td>Tecnología y Planificación</td>\n",
       "      <td>M</td>\n",
       "      <td>1970-12-20</td>\n",
       "      <td>EMP</td>\n",
       "      <td>ASESOR BASE</td>\n",
       "      <td>156</td>\n",
       "      <td>2019-08-09</td>\n",
       "      <td>c.2) Reincorporaciones</td>\n",
       "      <td>c.2) Reincorporaciones</td>\n",
       "      <td>Persona 19888</td>\n",
       "      <td>18802</td>\n",
       "      <td>51.512329</td>\n",
       "    </tr>\n",
       "    <tr>\n",
       "      <th>2</th>\n",
       "      <td>gestionydireccion</td>\n",
       "      <td>Gestión y Direccion</td>\n",
       "      <td>M</td>\n",
       "      <td>1971-10-09</td>\n",
       "      <td>EMP</td>\n",
       "      <td>OPERADOR DE COMUNICACIONES</td>\n",
       "      <td>156</td>\n",
       "      <td>2019-08-04</td>\n",
       "      <td>c.2) Reincorporaciones</td>\n",
       "      <td>c.2) Reincorporaciones</td>\n",
       "      <td>Persona 19890</td>\n",
       "      <td>18509</td>\n",
       "      <td>50.709589</td>\n",
       "    </tr>\n",
       "    <tr>\n",
       "      <th>3</th>\n",
       "      <td>gestionydireccion</td>\n",
       "      <td>Gestión y Direccion</td>\n",
       "      <td>M</td>\n",
       "      <td>1971-01-03</td>\n",
       "      <td>EMP</td>\n",
       "      <td>OPERADOR DE COMUNICACIONES</td>\n",
       "      <td>156</td>\n",
       "      <td>2019-08-13</td>\n",
       "      <td>c.2) Reincorporaciones</td>\n",
       "      <td>c.2) Reincorporaciones</td>\n",
       "      <td>Persona 19891</td>\n",
       "      <td>18788</td>\n",
       "      <td>51.473973</td>\n",
       "    </tr>\n",
       "    <tr>\n",
       "      <th>4</th>\n",
       "      <td>vigilanciayseguridad</td>\n",
       "      <td>Vigilancia y Seguridad</td>\n",
       "      <td>F</td>\n",
       "      <td>1962-11-26</td>\n",
       "      <td>EMP</td>\n",
       "      <td>ADMINISTRATIVO</td>\n",
       "      <td>156</td>\n",
       "      <td>2019-08-08</td>\n",
       "      <td>c.2) Reincorporaciones</td>\n",
       "      <td>c.2) Reincorporaciones</td>\n",
       "      <td>Persona 19892</td>\n",
       "      <td>21748</td>\n",
       "      <td>59.583562</td>\n",
       "    </tr>\n",
       "  </tbody>\n",
       "</table>\n",
       "</div>"
      ],
      "text/plain": [
       "          Subactividad_desc                Subactividad Genero  \\\n",
       "0  tecnologíayplanificación  Tecnología y Planificación      M   \n",
       "1  tecnologíayplanificación  Tecnología y Planificación      M   \n",
       "2         gestionydireccion         Gestión y Direccion      M   \n",
       "3         gestionydireccion         Gestión y Direccion      M   \n",
       "4      vigilanciayseguridad      Vigilancia y Seguridad      F   \n",
       "\n",
       "  Fecha nacimiento Clase empleado           Nombre del puesto  \\\n",
       "0       1966-06-27            EMP  OPERADOR DE COMUNICACIONES   \n",
       "1       1970-12-20            EMP                 ASESOR BASE   \n",
       "2       1971-10-09            EMP  OPERADOR DE COMUNICACIONES   \n",
       "3       1971-01-03            EMP  OPERADOR DE COMUNICACIONES   \n",
       "4       1962-11-26            EMP              ADMINISTRATIVO   \n",
       "\n",
       "   COD. UNIDAD DE NEGOCIO Fecha alta         Tipo alta local  \\\n",
       "0                     156 2019-08-28  c.2) Reincorporaciones   \n",
       "1                     156 2019-08-09  c.2) Reincorporaciones   \n",
       "2                     156 2019-08-04  c.2) Reincorporaciones   \n",
       "3                     156 2019-08-13  c.2) Reincorporaciones   \n",
       "4                     156 2019-08-08  c.2) Reincorporaciones   \n",
       "\n",
       "         Tipo alta global     ID Persona  edad (días)  edad (años)  \n",
       "0  c.2) Reincorporaciones  Persona 19887        20439    55.997260  \n",
       "1  c.2) Reincorporaciones  Persona 19888        18802    51.512329  \n",
       "2  c.2) Reincorporaciones  Persona 19890        18509    50.709589  \n",
       "3  c.2) Reincorporaciones  Persona 19891        18788    51.473973  \n",
       "4  c.2) Reincorporaciones  Persona 19892        21748    59.583562  "
      ]
     },
     "execution_count": 454,
     "metadata": {},
     "output_type": "execute_result"
    }
   ],
   "source": [
    "df_altas.head()"
   ]
  },
  {
   "cell_type": "code",
   "execution_count": 455,
   "id": "896f2924",
   "metadata": {},
   "outputs": [
    {
     "data": {
      "text/html": [
       "<div>\n",
       "<style scoped>\n",
       "    .dataframe tbody tr th:only-of-type {\n",
       "        vertical-align: middle;\n",
       "    }\n",
       "\n",
       "    .dataframe tbody tr th {\n",
       "        vertical-align: top;\n",
       "    }\n",
       "\n",
       "    .dataframe thead th {\n",
       "        text-align: right;\n",
       "    }\n",
       "</style>\n",
       "<table border=\"1\" class=\"dataframe\">\n",
       "  <thead>\n",
       "    <tr style=\"text-align: right;\">\n",
       "      <th></th>\n",
       "      <th>ID persona</th>\n",
       "      <th>Unidad de Negocio</th>\n",
       "      <th>COD. UNIDAD DE NEGOCIO</th>\n",
       "      <th>Subactividad_desc</th>\n",
       "      <th>Subactividad</th>\n",
       "      <th>Genero</th>\n",
       "      <th>Fecha nacimiento</th>\n",
       "      <th>Fecha fin de contrato</th>\n",
       "      <th>Tipo de baja local</th>\n",
       "      <th>Clase de empleado</th>\n",
       "      <th>Tipo de baja global</th>\n",
       "      <th>Nombre del puesto</th>\n",
       "      <th>edad (días)</th>\n",
       "      <th>edad (años)</th>\n",
       "    </tr>\n",
       "  </thead>\n",
       "  <tbody>\n",
       "    <tr>\n",
       "      <th>0</th>\n",
       "      <td>Persona 1716855</td>\n",
       "      <td>España</td>\n",
       "      <td>156</td>\n",
       "      <td>tecnologíayplanificación</td>\n",
       "      <td>Tecnología y Planificación</td>\n",
       "      <td>M</td>\n",
       "      <td>1952-02-12</td>\n",
       "      <td>2019-08-10</td>\n",
       "      <td>b.2) Otras bajas vegetativas</td>\n",
       "      <td>EMP</td>\n",
       "      <td>b.2) Otras bajas vegetativas</td>\n",
       "      <td>TITULADO SUPERIOR O MASTER</td>\n",
       "      <td>25688</td>\n",
       "      <td>70.378082</td>\n",
       "    </tr>\n",
       "    <tr>\n",
       "      <th>1</th>\n",
       "      <td>Persona 1716863</td>\n",
       "      <td>España</td>\n",
       "      <td>156</td>\n",
       "      <td>gestionydireccion</td>\n",
       "      <td>Gestión y Direccion</td>\n",
       "      <td>F</td>\n",
       "      <td>1952-02-12</td>\n",
       "      <td>2019-08-10</td>\n",
       "      <td>b.2) Otras bajas vegetativas</td>\n",
       "      <td>EMP</td>\n",
       "      <td>b.2) Otras bajas vegetativas</td>\n",
       "      <td>TITULADO SUPERIOR O MASTER</td>\n",
       "      <td>25688</td>\n",
       "      <td>70.378082</td>\n",
       "    </tr>\n",
       "    <tr>\n",
       "      <th>2</th>\n",
       "      <td>Persona 1716872</td>\n",
       "      <td>España</td>\n",
       "      <td>156</td>\n",
       "      <td>vigilanciayseguridad</td>\n",
       "      <td>Vigilancia y Seguridad</td>\n",
       "      <td>M</td>\n",
       "      <td>1989-09-14</td>\n",
       "      <td>2019-08-11</td>\n",
       "      <td>b.1) Renuncias voluntarias</td>\n",
       "      <td>EMP</td>\n",
       "      <td>b.1) Renuncias voluntarias</td>\n",
       "      <td>TITULADO/TECNICO MEDIO O DE GRADO</td>\n",
       "      <td>11959</td>\n",
       "      <td>32.764384</td>\n",
       "    </tr>\n",
       "    <tr>\n",
       "      <th>3</th>\n",
       "      <td>Persona 1716873</td>\n",
       "      <td>España</td>\n",
       "      <td>156</td>\n",
       "      <td>vigilanciayseguridad</td>\n",
       "      <td>Vigilancia y Seguridad</td>\n",
       "      <td>F</td>\n",
       "      <td>1988-09-06</td>\n",
       "      <td>2019-08-19</td>\n",
       "      <td>b.1) Renuncias voluntarias</td>\n",
       "      <td>EMP</td>\n",
       "      <td>b.1) Renuncias voluntarias</td>\n",
       "      <td>EXPERTO NIVEL 2</td>\n",
       "      <td>12332</td>\n",
       "      <td>33.786301</td>\n",
       "    </tr>\n",
       "    <tr>\n",
       "      <th>4</th>\n",
       "      <td>Persona 1716956</td>\n",
       "      <td>España</td>\n",
       "      <td>156</td>\n",
       "      <td>tecnologíayplanificación</td>\n",
       "      <td>Tecnología y Planificación</td>\n",
       "      <td>M</td>\n",
       "      <td>1966-12-01</td>\n",
       "      <td>2019-08-21</td>\n",
       "      <td>b.1) Renuncias voluntarias</td>\n",
       "      <td>EMP</td>\n",
       "      <td>b.1) Renuncias voluntarias</td>\n",
       "      <td>TITULADO SUPERIOR O MASTER</td>\n",
       "      <td>20282</td>\n",
       "      <td>55.567123</td>\n",
       "    </tr>\n",
       "  </tbody>\n",
       "</table>\n",
       "</div>"
      ],
      "text/plain": [
       "        ID persona Unidad de Negocio  COD. UNIDAD DE NEGOCIO  \\\n",
       "0  Persona 1716855            España                     156   \n",
       "1  Persona 1716863            España                     156   \n",
       "2  Persona 1716872            España                     156   \n",
       "3  Persona 1716873            España                     156   \n",
       "4  Persona 1716956            España                     156   \n",
       "\n",
       "          Subactividad_desc                Subactividad Genero  \\\n",
       "0  tecnologíayplanificación  Tecnología y Planificación      M   \n",
       "1         gestionydireccion         Gestión y Direccion      F   \n",
       "2      vigilanciayseguridad      Vigilancia y Seguridad      M   \n",
       "3      vigilanciayseguridad      Vigilancia y Seguridad      F   \n",
       "4  tecnologíayplanificación  Tecnología y Planificación      M   \n",
       "\n",
       "  Fecha nacimiento Fecha fin de contrato            Tipo de baja local  \\\n",
       "0       1952-02-12            2019-08-10  b.2) Otras bajas vegetativas   \n",
       "1       1952-02-12            2019-08-10  b.2) Otras bajas vegetativas   \n",
       "2       1989-09-14            2019-08-11    b.1) Renuncias voluntarias   \n",
       "3       1988-09-06            2019-08-19    b.1) Renuncias voluntarias   \n",
       "4       1966-12-01            2019-08-21    b.1) Renuncias voluntarias   \n",
       "\n",
       "  Clase de empleado           Tipo de baja global  \\\n",
       "0               EMP  b.2) Otras bajas vegetativas   \n",
       "1               EMP  b.2) Otras bajas vegetativas   \n",
       "2               EMP    b.1) Renuncias voluntarias   \n",
       "3               EMP    b.1) Renuncias voluntarias   \n",
       "4               EMP    b.1) Renuncias voluntarias   \n",
       "\n",
       "                   Nombre del puesto  edad (días)  edad (años)  \n",
       "0         TITULADO SUPERIOR O MASTER        25688    70.378082  \n",
       "1         TITULADO SUPERIOR O MASTER        25688    70.378082  \n",
       "2  TITULADO/TECNICO MEDIO O DE GRADO        11959    32.764384  \n",
       "3                    EXPERTO NIVEL 2        12332    33.786301  \n",
       "4         TITULADO SUPERIOR O MASTER        20282    55.567123  "
      ]
     },
     "execution_count": 455,
     "metadata": {},
     "output_type": "execute_result"
    }
   ],
   "source": [
    "df_bajas.head()"
   ]
  },
  {
   "cell_type": "markdown",
   "id": "f1dff4a6",
   "metadata": {},
   "source": [
    "### (1) ¿Cuántos FTEs tiene la compañía en julio? ¿Qué porcentaje de dedicación tienen los empleados de la compañía durante el mes de Julio de 2019?"
   ]
  },
  {
   "cell_type": "markdown",
   "id": "06deaf2d",
   "metadata": {},
   "source": [
    "Podemos calcular los FTEs de la compañia en julio como: el número de trabajadores equivalentes a tiempo completo que proporcionarían las mismas horas de trabajo en un mismo período de tiempo (día, semana, mes, año) que la plantilla actual de la compañía. Se obtiene dividiendo la suma total de horas de trabajo del total de trabajadores de la empresa (ya sea a tiempo completo y/o tiempo parcial) entre la jornada laboral / o número de horas máximas teóricas de la compañía ( ya sea por día, semana, mes, año)."
   ]
  },
  {
   "cell_type": "markdown",
   "id": "24f3ed76",
   "metadata": {},
   "source": [
    "Para el calculo se tendrá en cuenta que España y Brasil presentan la misma jornada laboral completa (40h) para sus trabajadores."
   ]
  },
  {
   "cell_type": "code",
   "execution_count": 456,
   "id": "49951edf",
   "metadata": {},
   "outputs": [
    {
     "data": {
      "text/plain": [
       "47608.167500000054"
      ]
     },
     "execution_count": 456,
     "metadata": {},
     "output_type": "execute_result"
    }
   ],
   "source": [
    "FTEs = sum(plan19['PROMEDIO DE HORAS  SEMANALES TRABAJADAS EN EL MES'])/40\n",
    "FTEs"
   ]
  },
  {
   "cell_type": "code",
   "execution_count": 457,
   "id": "141e64e0",
   "metadata": {},
   "outputs": [
    {
     "name": "stdout",
     "output_type": "stream",
     "text": [
      "En julio de 2019 la empresa presenta 48431 empleados y 47608.17 FTEs\n"
     ]
    }
   ],
   "source": [
    "print(\"En julio de 2019 la empresa presenta\", len(plan19), \"empleados y\", round(FTEs,2), \"FTEs\")"
   ]
  },
  {
   "cell_type": "markdown",
   "id": "b8591392",
   "metadata": {},
   "source": [
    "Porcentaje de dedicación"
   ]
  },
  {
   "cell_type": "code",
   "execution_count": 458,
   "id": "1bab95e8",
   "metadata": {},
   "outputs": [],
   "source": [
    "horas_trab=(plan19['PROMEDIO DE HORAS  SEMANALES TRABAJADAS EN EL MES'].sum()/plan19['HORAS TEÓRICAS SEMANALES POR UNIDAD DE NEGOCIO'].sum())*100"
   ]
  },
  {
   "cell_type": "code",
   "execution_count": 459,
   "id": "d8e56faf",
   "metadata": {},
   "outputs": [
    {
     "name": "stdout",
     "output_type": "stream",
     "text": [
      "Se han cubierto entre todos los empleados el 93.96 % de las horas teóricas\n"
     ]
    }
   ],
   "source": [
    "print(\"Se han cubierto entre todos los empleados el\",round(horas_trab,2),\"% de las horas teóricas\")"
   ]
  },
  {
   "cell_type": "markdown",
   "id": "6cf905af",
   "metadata": {},
   "source": [
    "### (2) ¿Cuantos empleados tiene la compañía a 31 de Agosto teniendo en cuenta las altas y las bajas de ese período?"
   ]
  },
  {
   "cell_type": "code",
   "execution_count": 460,
   "id": "6b732c9e",
   "metadata": {},
   "outputs": [
    {
     "data": {
      "text/plain": [
       "48654"
      ]
     },
     "execution_count": 460,
     "metadata": {},
     "output_type": "execute_result"
    }
   ],
   "source": [
    "len(plan19)-len(df_bajas)+len(df_altas)"
   ]
  },
  {
   "cell_type": "code",
   "execution_count": 10,
   "id": "2dc63e2f",
   "metadata": {},
   "outputs": [
    {
     "data": {
      "text/plain": [
       "360"
      ]
     },
     "execution_count": 10,
     "metadata": {},
     "output_type": "execute_result"
    }
   ],
   "source": [
    "len(df_bajas)"
   ]
  },
  {
   "cell_type": "code",
   "execution_count": 11,
   "id": "232859aa",
   "metadata": {},
   "outputs": [
    {
     "data": {
      "text/plain": [
       "583"
      ]
     },
     "execution_count": 11,
     "metadata": {},
     "output_type": "execute_result"
    }
   ],
   "source": [
    "len(df_altas)"
   ]
  },
  {
   "cell_type": "markdown",
   "id": "5ec9a6df",
   "metadata": {},
   "source": [
    "### (3) ¿Qué Índices de rotación ha tenido la compañía durante el mes de Agosto?  \n",
    "    3. A. Índice de Rotación Bruta: Número de bajas totales/num empleados inicio del período * 100  \n",
    "    3. B. Índice de Rotación Neta: (Número de bajas + número de contrataciones) / 2] / num empleados inicio periodo * 100   \n",
    "    3. C. Índice de Rotación Bruta voluntaria: Número de bajas voluntarias / num empleados inicio del período * 100  \n",
    "    3. D. Índice de Rotación Bruta Involuntaria: Número de bajas involuntarias /num empleados inicio del período * 100  "
   ]
  },
  {
   "cell_type": "code",
   "execution_count": 461,
   "id": "f31087a4",
   "metadata": {},
   "outputs": [],
   "source": [
    "ro_brut = (len(df_bajas)/len(plan19)) *100\n",
    "ro_net = (((len(df_bajas)+len(df_altas))/2) / len(plan19)) *100\n",
    "\n",
    "bajas_vol= len(df_bajas[df_bajas['Tipo de baja global']=='b.1) Renuncias voluntarias'])\n",
    "bajas_invol = len(df_bajas[df_bajas['Tipo de baja global']!='b.1) Renuncias voluntarias'])\n",
    "\n",
    "ro_brut_vol = (bajas_vol / len(plan19)) *100\n",
    "ro_brut_inv = (bajas_invol / len(plan19)) *100"
   ]
  },
  {
   "cell_type": "code",
   "execution_count": 462,
   "id": "f35e7551",
   "metadata": {},
   "outputs": [
    {
     "name": "stdout",
     "output_type": "stream",
     "text": [
      "Índice de Rotación Bruta: 0.743325555945572 \n",
      " Índice de Rotación Neta: 0.9735499989676034 \n",
      " Índice de Rotación Bruta voluntaria: 0.14040593834527473 \n",
      " Índice de Rotación Bruta Involuntaria: 0.6029196176002973\n"
     ]
    }
   ],
   "source": [
    "print(\"Índice de Rotación Bruta:\",ro_brut,\"\\n\",\"Índice de Rotación Neta:\",ro_net,\"\\n\",\n",
    "      \"Índice de Rotación Bruta voluntaria:\",ro_brut_vol,\"\\n\",\"Índice de Rotación Bruta Involuntaria:\",ro_brut_inv\n",
    "     )"
   ]
  },
  {
   "cell_type": "markdown",
   "id": "598c5602",
   "metadata": {},
   "source": [
    "### (4) Antigüedad media de los empleados que trabajan en Andalucía."
   ]
  },
  {
   "cell_type": "code",
   "execution_count": 463,
   "id": "ce50c1ec",
   "metadata": {},
   "outputs": [],
   "source": [
    "andalu=['SEVILLA','MALAGA','CADIZ','CORDOBA','GRANADA','ALMERIA','HUELVA','JAEN'] "
   ]
  },
  {
   "cell_type": "code",
   "execution_count": 464,
   "id": "b42be1b0",
   "metadata": {
    "scrolled": true
   },
   "outputs": [],
   "source": [
    "df_and=plan19[plan19['Localización Ciudad'].isin(andalu)]\n",
    "\n",
    "df_and['Fecha de Alta'] = pd.to_datetime(plan19['Fecha de Alta'])\n",
    "df_and['antiguedad (días)'] = (dt.datetime.now()-df_and['Fecha de Alta']).dt.days\n",
    "df_and['antiguedad (años)']= df_and['antiguedad (días)']/365"
   ]
  },
  {
   "cell_type": "code",
   "execution_count": 465,
   "id": "64aa216d",
   "metadata": {},
   "outputs": [
    {
     "data": {
      "text/plain": [
       "29.90739402437736"
      ]
     },
     "execution_count": 465,
     "metadata": {},
     "output_type": "execute_result"
    }
   ],
   "source": [
    "df_and['antiguedad (años)'].mean()"
   ]
  },
  {
   "cell_type": "code",
   "execution_count": 466,
   "id": "0c3a8e21",
   "metadata": {},
   "outputs": [
    {
     "name": "stdout",
     "output_type": "stream",
     "text": [
      "La antigüedad media de los empleados en andalucia es de 29.91 años\n"
     ]
    }
   ],
   "source": [
    "print(\"La antigüedad media de los empleados en andalucia es de\",round(df_and['antiguedad (años)'].mean(),2),\"años\")"
   ]
  },
  {
   "cell_type": "markdown",
   "id": "f976b262",
   "metadata": {},
   "source": [
    "### ¿Está cumpliendo CORUSAN con la LISMI?"
   ]
  },
  {
   "cell_type": "code",
   "execution_count": 467,
   "id": "8b432524",
   "metadata": {},
   "outputs": [
    {
     "data": {
      "text/plain": [
       "No    15877\n",
       "Sí      142\n",
       "Name: Discapacidad, dtype: int64"
      ]
     },
     "execution_count": 467,
     "metadata": {},
     "output_type": "execute_result"
    }
   ],
   "source": [
    "plan19[plan19['Localización País']==\"España\"]['Discapacidad'].value_counts()"
   ]
  },
  {
   "cell_type": "code",
   "execution_count": 468,
   "id": "65c9c2fd",
   "metadata": {},
   "outputs": [
    {
     "data": {
      "text/plain": [
       "0.8943755117465516"
      ]
     },
     "execution_count": 468,
     "metadata": {},
     "output_type": "execute_result"
    }
   ],
   "source": [
    "(142/15877)*100"
   ]
  },
  {
   "cell_type": "markdown",
   "id": "6877c799",
   "metadata": {},
   "source": [
    "No la está cumpliendo, se exige un 2% de discapacitados del total de la plantilla y no llegan al 1%"
   ]
  },
  {
   "cell_type": "markdown",
   "id": "4a2314b6",
   "metadata": {},
   "source": [
    "### Realiza un análisis del tipo de bajas que se han producido durante el mes de Agosto por tipo de puesto de trabajo, rangos de edad, género y zona geográfica.\n"
   ]
  },
  {
   "cell_type": "code",
   "execution_count": 3,
   "id": "2c4fce35",
   "metadata": {},
   "outputs": [],
   "source": [
    "df_bajas['edad'] = ((dt.datetime.now()-df_bajas['Fecha nacimiento']).dt.days)/365"
   ]
  },
  {
   "cell_type": "markdown",
   "id": "cafb1390",
   "metadata": {},
   "source": [
    "Tipos de bajas producidas"
   ]
  },
  {
   "cell_type": "code",
   "execution_count": 4,
   "id": "8ae9bfee",
   "metadata": {},
   "outputs": [
    {
     "data": {
      "text/plain": [
       "a.2 ) X otras causas (Indemnizaciones)    290\n",
       "b.1) Renuncias voluntarias                 68\n",
       "b.2) Otras bajas vegetativas                2\n",
       "Name: Tipo de baja global, dtype: int64"
      ]
     },
     "execution_count": 4,
     "metadata": {},
     "output_type": "execute_result"
    }
   ],
   "source": [
    "df_bajas['Tipo de baja global'].value_counts()"
   ]
  },
  {
   "cell_type": "code",
   "execution_count": 6,
   "id": "505f4455",
   "metadata": {},
   "outputs": [
    {
     "data": {
      "text/plain": [
       "Fuerza de ventas directa                                                                  165\n",
       "Canal telefónico - Atención                                                               153\n",
       "Producción IT                                                                              98\n",
       "Call Center técnico                                                                        32\n",
       "Instalación y mantenimiento Red de Acceso (Red Externa)                                    29\n",
       "Backoffice                                                                                 13\n",
       "Mantenimiento Red Troncal (Red Interna)                                                    11\n",
       "Soporte ventas                                                                              7\n",
       "Operaciones Red para empresas                                                               7\n",
       "Desarrollo de Proyectos Estratégicos y Transformación                                       7\n",
       "Ingeniería y construcción de infraestructuras de Red Troncal                                5\n",
       "Supervisión de red                                                                          4\n",
       "Tecnología y Planificación                                                                  4\n",
       "Marketing de Cliente (Oferta Comercial, Captación y fidelización, Pricing, Terminales)      4\n",
       "Logística de terminales y equipamiento de cliente                                           4\n",
       "Planificación e Inteligencia del Negocio                                                    3\n",
       "Tesorería y planificación financiera                                                        3\n",
       "Marketing de Producto (Diseño y desarrollo de productos y servicios)                        3\n",
       "Fuerza de ventas indirecta                                                                  2\n",
       "Operación de red                                                                            2\n",
       "Pre-Ventas                                                                                  2\n",
       "Gestión y Direccion                                                                         2\n",
       "Contabilidad                                                                                2\n",
       "Compras                                                                                     2\n",
       "Gestión y mantenimiento de edificios                                                        2\n",
       "Formación                                                                                   2\n",
       "Planificación y controlling                                                                 2\n",
       "Aseguramiento de ingresos y control de fraude                                               1\n",
       "Vigilancia y Seguridad                                                                      1\n",
       "Gestión de Contenidos                                                                       1\n",
       "Administración y gestión de cobros                                                          1\n",
       "Relaciones Laborales y Gestión de Aliados                                                   1\n",
       "Ingeniería y construcción de infraestructuras de Red de Acceso                              1\n",
       "Compensación, Beneficios y Movilidad Global                                                 1\n",
       "Business Partners                                                                           1\n",
       "Selección                                                                                   1\n",
       "Logística de red                                                                            1\n",
       "Asesoría legal y soporte jurídico                                                           1\n",
       "Relaciones regulatorias y normativas                                                        1\n",
       "Calidad y Optimización de procesos                                                          1\n",
       "Name: Subactividad, dtype: int64"
      ]
     },
     "execution_count": 6,
     "metadata": {},
     "output_type": "execute_result"
    }
   ],
   "source": [
    "df_altas['Subactividad'].value_counts()"
   ]
  },
  {
   "cell_type": "code",
   "execution_count": 472,
   "id": "978575aa",
   "metadata": {},
   "outputs": [
    {
     "data": {
      "text/plain": [
       "Call Center técnico                          97\n",
       "Canal telefónico - Atención                  35\n",
       "Supervisión de red                           32\n",
       "Gestión de la morosidad e Impagos            19\n",
       "Fuerza de ventas directa                     17\n",
       "Operación de red                             14\n",
       "Producción IT                                12\n",
       "Relaciones Laborales y Gestión de Aliados    11\n",
       "Planificación y controlling                  11\n",
       "Selección                                    10\n",
       "Name: Subactividad, dtype: int64"
      ]
     },
     "execution_count": 472,
     "metadata": {},
     "output_type": "execute_result"
    }
   ],
   "source": [
    "df_bajas['Subactividad'].value_counts()[:10]"
   ]
  },
  {
   "cell_type": "markdown",
   "id": "aa096d6a",
   "metadata": {},
   "source": [
    "Rangos de edad de las bajas"
   ]
  },
  {
   "cell_type": "code",
   "execution_count": 473,
   "id": "132395d6",
   "metadata": {},
   "outputs": [
    {
     "data": {
      "text/plain": [
       "count    360.000000\n",
       "mean      36.533265\n",
       "std        8.083886\n",
       "min       22.197260\n",
       "25%       30.393151\n",
       "50%       36.075342\n",
       "75%       40.791781\n",
       "max       70.378082\n",
       "Name: edad, dtype: float64"
      ]
     },
     "execution_count": 473,
     "metadata": {},
     "output_type": "execute_result"
    }
   ],
   "source": [
    "df_bajas.edad.describe()"
   ]
  },
  {
   "cell_type": "markdown",
   "id": "93a4832f",
   "metadata": {},
   "source": [
    "Departamentos con más bajas en agosto"
   ]
  },
  {
   "cell_type": "code",
   "execution_count": 474,
   "id": "07fd687c",
   "metadata": {},
   "outputs": [
    {
     "data": {
      "text/plain": [
       "Call Center técnico                          97\n",
       "Canal telefónico - Atención                  35\n",
       "Supervisión de red                           32\n",
       "Gestión de la morosidad e Impagos            19\n",
       "Fuerza de ventas directa                     17\n",
       "Operación de red                             14\n",
       "Producción IT                                12\n",
       "Relaciones Laborales y Gestión de Aliados    11\n",
       "Planificación y controlling                  11\n",
       "Selección                                    10\n",
       "Name: Subactividad, dtype: int64"
      ]
     },
     "execution_count": 474,
     "metadata": {},
     "output_type": "execute_result"
    }
   ],
   "source": [
    "df_bajas['Subactividad'].value_counts()[:10]"
   ]
  },
  {
   "cell_type": "markdown",
   "id": "8933177f",
   "metadata": {},
   "source": [
    "Ratio despidos (H/M)"
   ]
  },
  {
   "cell_type": "code",
   "execution_count": 475,
   "id": "4ecf6bc4",
   "metadata": {},
   "outputs": [
    {
     "data": {
      "text/plain": [
       "M    210\n",
       "F    150\n",
       "Name: Genero, dtype: int64"
      ]
     },
     "execution_count": 475,
     "metadata": {},
     "output_type": "execute_result"
    }
   ],
   "source": [
    "df_bajas['Genero'].value_counts()"
   ]
  },
  {
   "cell_type": "markdown",
   "id": "9bb986a1",
   "metadata": {},
   "source": [
    "Despidos por unidad de negocio"
   ]
  },
  {
   "cell_type": "code",
   "execution_count": 9,
   "id": "3e459ce7",
   "metadata": {},
   "outputs": [
    {
     "data": {
      "text/plain": [
       "185    354\n",
       "156      6\n",
       "Name: COD. UNIDAD DE NEGOCIO, dtype: int64"
      ]
     },
     "execution_count": 9,
     "metadata": {},
     "output_type": "execute_result"
    }
   ],
   "source": [
    "df_bajas['COD. UNIDAD DE NEGOCIO'].value_counts()"
   ]
  },
  {
   "cell_type": "code",
   "execution_count": 477,
   "id": "2efd4022",
   "metadata": {},
   "outputs": [
    {
     "data": {
      "text/html": [
       "<div>\n",
       "<style scoped>\n",
       "    .dataframe tbody tr th:only-of-type {\n",
       "        vertical-align: middle;\n",
       "    }\n",
       "\n",
       "    .dataframe tbody tr th {\n",
       "        vertical-align: top;\n",
       "    }\n",
       "\n",
       "    .dataframe thead th {\n",
       "        text-align: right;\n",
       "    }\n",
       "</style>\n",
       "<table border=\"1\" class=\"dataframe\">\n",
       "  <thead>\n",
       "    <tr style=\"text-align: right;\">\n",
       "      <th></th>\n",
       "      <th>ID persona</th>\n",
       "      <th>Unidad de Negocio</th>\n",
       "      <th>COD. UNIDAD DE NEGOCIO</th>\n",
       "      <th>Subactividad_desc</th>\n",
       "      <th>Subactividad</th>\n",
       "      <th>Genero</th>\n",
       "      <th>Fecha nacimiento</th>\n",
       "      <th>Fecha fin de contrato</th>\n",
       "      <th>Tipo de baja local</th>\n",
       "      <th>Clase de empleado</th>\n",
       "      <th>Tipo de baja global</th>\n",
       "      <th>Nombre del puesto</th>\n",
       "      <th>edad (días)</th>\n",
       "      <th>edad (años)</th>\n",
       "      <th>edad</th>\n",
       "    </tr>\n",
       "  </thead>\n",
       "  <tbody>\n",
       "    <tr>\n",
       "      <th>0</th>\n",
       "      <td>Persona 1716855</td>\n",
       "      <td>España</td>\n",
       "      <td>156</td>\n",
       "      <td>tecnologíayplanificación</td>\n",
       "      <td>Tecnología y Planificación</td>\n",
       "      <td>M</td>\n",
       "      <td>1952-02-12</td>\n",
       "      <td>2019-08-10</td>\n",
       "      <td>b.2) Otras bajas vegetativas</td>\n",
       "      <td>EMP</td>\n",
       "      <td>b.2) Otras bajas vegetativas</td>\n",
       "      <td>TITULADO SUPERIOR O MASTER</td>\n",
       "      <td>25688</td>\n",
       "      <td>70.378082</td>\n",
       "      <td>70.378082</td>\n",
       "    </tr>\n",
       "    <tr>\n",
       "      <th>1</th>\n",
       "      <td>Persona 1716863</td>\n",
       "      <td>España</td>\n",
       "      <td>156</td>\n",
       "      <td>gestionydireccion</td>\n",
       "      <td>Gestión y Direccion</td>\n",
       "      <td>F</td>\n",
       "      <td>1952-02-12</td>\n",
       "      <td>2019-08-10</td>\n",
       "      <td>b.2) Otras bajas vegetativas</td>\n",
       "      <td>EMP</td>\n",
       "      <td>b.2) Otras bajas vegetativas</td>\n",
       "      <td>TITULADO SUPERIOR O MASTER</td>\n",
       "      <td>25688</td>\n",
       "      <td>70.378082</td>\n",
       "      <td>70.378082</td>\n",
       "    </tr>\n",
       "    <tr>\n",
       "      <th>2</th>\n",
       "      <td>Persona 1716872</td>\n",
       "      <td>España</td>\n",
       "      <td>156</td>\n",
       "      <td>vigilanciayseguridad</td>\n",
       "      <td>Vigilancia y Seguridad</td>\n",
       "      <td>M</td>\n",
       "      <td>1989-09-14</td>\n",
       "      <td>2019-08-11</td>\n",
       "      <td>b.1) Renuncias voluntarias</td>\n",
       "      <td>EMP</td>\n",
       "      <td>b.1) Renuncias voluntarias</td>\n",
       "      <td>TITULADO/TECNICO MEDIO O DE GRADO</td>\n",
       "      <td>11959</td>\n",
       "      <td>32.764384</td>\n",
       "      <td>32.764384</td>\n",
       "    </tr>\n",
       "    <tr>\n",
       "      <th>3</th>\n",
       "      <td>Persona 1716873</td>\n",
       "      <td>España</td>\n",
       "      <td>156</td>\n",
       "      <td>vigilanciayseguridad</td>\n",
       "      <td>Vigilancia y Seguridad</td>\n",
       "      <td>F</td>\n",
       "      <td>1988-09-06</td>\n",
       "      <td>2019-08-19</td>\n",
       "      <td>b.1) Renuncias voluntarias</td>\n",
       "      <td>EMP</td>\n",
       "      <td>b.1) Renuncias voluntarias</td>\n",
       "      <td>EXPERTO NIVEL 2</td>\n",
       "      <td>12332</td>\n",
       "      <td>33.786301</td>\n",
       "      <td>33.786301</td>\n",
       "    </tr>\n",
       "    <tr>\n",
       "      <th>4</th>\n",
       "      <td>Persona 1716956</td>\n",
       "      <td>España</td>\n",
       "      <td>156</td>\n",
       "      <td>tecnologíayplanificación</td>\n",
       "      <td>Tecnología y Planificación</td>\n",
       "      <td>M</td>\n",
       "      <td>1966-12-01</td>\n",
       "      <td>2019-08-21</td>\n",
       "      <td>b.1) Renuncias voluntarias</td>\n",
       "      <td>EMP</td>\n",
       "      <td>b.1) Renuncias voluntarias</td>\n",
       "      <td>TITULADO SUPERIOR O MASTER</td>\n",
       "      <td>20282</td>\n",
       "      <td>55.567123</td>\n",
       "      <td>55.567123</td>\n",
       "    </tr>\n",
       "    <tr>\n",
       "      <th>...</th>\n",
       "      <td>...</td>\n",
       "      <td>...</td>\n",
       "      <td>...</td>\n",
       "      <td>...</td>\n",
       "      <td>...</td>\n",
       "      <td>...</td>\n",
       "      <td>...</td>\n",
       "      <td>...</td>\n",
       "      <td>...</td>\n",
       "      <td>...</td>\n",
       "      <td>...</td>\n",
       "      <td>...</td>\n",
       "      <td>...</td>\n",
       "      <td>...</td>\n",
       "      <td>...</td>\n",
       "    </tr>\n",
       "    <tr>\n",
       "      <th>355</th>\n",
       "      <td>Persona 1419069</td>\n",
       "      <td>Brasil</td>\n",
       "      <td>185</td>\n",
       "      <td>canaltelefónico-atención</td>\n",
       "      <td>Canal telefónico - Atención</td>\n",
       "      <td>F</td>\n",
       "      <td>1992-12-15</td>\n",
       "      <td>2019-08-05</td>\n",
       "      <td>Dispensa sem Justa Causa AVP Inden.</td>\n",
       "      <td>EMP</td>\n",
       "      <td>a.2 ) X otras causas (Indemnizaciones)</td>\n",
       "      <td>ATENDENTE EXPERIENCIA CLIENTE II</td>\n",
       "      <td>10771</td>\n",
       "      <td>29.509589</td>\n",
       "      <td>29.509589</td>\n",
       "    </tr>\n",
       "    <tr>\n",
       "      <th>356</th>\n",
       "      <td>Persona 1419070</td>\n",
       "      <td>Brasil</td>\n",
       "      <td>185</td>\n",
       "      <td>canaltelefónico-atención</td>\n",
       "      <td>Canal telefónico - Atención</td>\n",
       "      <td>F</td>\n",
       "      <td>1990-12-25</td>\n",
       "      <td>2019-08-05</td>\n",
       "      <td>Pedido Dem na Experiência</td>\n",
       "      <td>EMP</td>\n",
       "      <td>b.1) Renuncias voluntarias</td>\n",
       "      <td>ATENDENTE TELEVENDAS III</td>\n",
       "      <td>11492</td>\n",
       "      <td>31.484932</td>\n",
       "      <td>31.484932</td>\n",
       "    </tr>\n",
       "    <tr>\n",
       "      <th>357</th>\n",
       "      <td>Persona 1419071</td>\n",
       "      <td>Brasil</td>\n",
       "      <td>185</td>\n",
       "      <td>canaltelefónico-atención</td>\n",
       "      <td>Canal telefónico - Atención</td>\n",
       "      <td>F</td>\n",
       "      <td>1991-09-17</td>\n",
       "      <td>2019-08-05</td>\n",
       "      <td>Dispensa sem Justa Causa AVP Inden.</td>\n",
       "      <td>EMP</td>\n",
       "      <td>a.2 ) X otras causas (Indemnizaciones)</td>\n",
       "      <td>ATENDENTE EXPERIENCIA CLIENTE II</td>\n",
       "      <td>11226</td>\n",
       "      <td>30.756164</td>\n",
       "      <td>30.756164</td>\n",
       "    </tr>\n",
       "    <tr>\n",
       "      <th>358</th>\n",
       "      <td>Persona 1419072</td>\n",
       "      <td>Brasil</td>\n",
       "      <td>185</td>\n",
       "      <td>canaltelefónico-atención</td>\n",
       "      <td>Canal telefónico - Atención</td>\n",
       "      <td>F</td>\n",
       "      <td>1985-06-20</td>\n",
       "      <td>2019-08-05</td>\n",
       "      <td>Dispensa sem Justa Causa AVP Inden.</td>\n",
       "      <td>EMP</td>\n",
       "      <td>a.2 ) X otras causas (Indemnizaciones)</td>\n",
       "      <td>ANALISTA GESTAO VENDAS SR</td>\n",
       "      <td>13506</td>\n",
       "      <td>37.002740</td>\n",
       "      <td>37.002740</td>\n",
       "    </tr>\n",
       "    <tr>\n",
       "      <th>359</th>\n",
       "      <td>Persona 1419073</td>\n",
       "      <td>Brasil</td>\n",
       "      <td>185</td>\n",
       "      <td>canaltelefónico-atención</td>\n",
       "      <td>Canal telefónico - Atención</td>\n",
       "      <td>F</td>\n",
       "      <td>1974-01-18</td>\n",
       "      <td>2019-08-05</td>\n",
       "      <td>Dispensa sem Justa Causa AVP Inden.</td>\n",
       "      <td>EMP</td>\n",
       "      <td>a.2 ) X otras causas (Indemnizaciones)</td>\n",
       "      <td>REPARADOR LA</td>\n",
       "      <td>17677</td>\n",
       "      <td>48.430137</td>\n",
       "      <td>48.430137</td>\n",
       "    </tr>\n",
       "  </tbody>\n",
       "</table>\n",
       "<p>360 rows × 15 columns</p>\n",
       "</div>"
      ],
      "text/plain": [
       "          ID persona Unidad de Negocio  COD. UNIDAD DE NEGOCIO  \\\n",
       "0    Persona 1716855            España                     156   \n",
       "1    Persona 1716863            España                     156   \n",
       "2    Persona 1716872            España                     156   \n",
       "3    Persona 1716873            España                     156   \n",
       "4    Persona 1716956            España                     156   \n",
       "..               ...               ...                     ...   \n",
       "355  Persona 1419069            Brasil                     185   \n",
       "356  Persona 1419070            Brasil                     185   \n",
       "357  Persona 1419071            Brasil                     185   \n",
       "358  Persona 1419072            Brasil                     185   \n",
       "359  Persona 1419073            Brasil                     185   \n",
       "\n",
       "            Subactividad_desc                 Subactividad Genero  \\\n",
       "0    tecnologíayplanificación   Tecnología y Planificación      M   \n",
       "1           gestionydireccion          Gestión y Direccion      F   \n",
       "2        vigilanciayseguridad       Vigilancia y Seguridad      M   \n",
       "3        vigilanciayseguridad       Vigilancia y Seguridad      F   \n",
       "4    tecnologíayplanificación   Tecnología y Planificación      M   \n",
       "..                        ...                          ...    ...   \n",
       "355  canaltelefónico-atención  Canal telefónico - Atención      F   \n",
       "356  canaltelefónico-atención  Canal telefónico - Atención      F   \n",
       "357  canaltelefónico-atención  Canal telefónico - Atención      F   \n",
       "358  canaltelefónico-atención  Canal telefónico - Atención      F   \n",
       "359  canaltelefónico-atención  Canal telefónico - Atención      F   \n",
       "\n",
       "    Fecha nacimiento Fecha fin de contrato  \\\n",
       "0         1952-02-12            2019-08-10   \n",
       "1         1952-02-12            2019-08-10   \n",
       "2         1989-09-14            2019-08-11   \n",
       "3         1988-09-06            2019-08-19   \n",
       "4         1966-12-01            2019-08-21   \n",
       "..               ...                   ...   \n",
       "355       1992-12-15            2019-08-05   \n",
       "356       1990-12-25            2019-08-05   \n",
       "357       1991-09-17            2019-08-05   \n",
       "358       1985-06-20            2019-08-05   \n",
       "359       1974-01-18            2019-08-05   \n",
       "\n",
       "                      Tipo de baja local Clase de empleado  \\\n",
       "0           b.2) Otras bajas vegetativas               EMP   \n",
       "1           b.2) Otras bajas vegetativas               EMP   \n",
       "2             b.1) Renuncias voluntarias               EMP   \n",
       "3             b.1) Renuncias voluntarias               EMP   \n",
       "4             b.1) Renuncias voluntarias               EMP   \n",
       "..                                   ...               ...   \n",
       "355  Dispensa sem Justa Causa AVP Inden.               EMP   \n",
       "356            Pedido Dem na Experiência               EMP   \n",
       "357  Dispensa sem Justa Causa AVP Inden.               EMP   \n",
       "358  Dispensa sem Justa Causa AVP Inden.               EMP   \n",
       "359  Dispensa sem Justa Causa AVP Inden.               EMP   \n",
       "\n",
       "                        Tipo de baja global  \\\n",
       "0              b.2) Otras bajas vegetativas   \n",
       "1              b.2) Otras bajas vegetativas   \n",
       "2                b.1) Renuncias voluntarias   \n",
       "3                b.1) Renuncias voluntarias   \n",
       "4                b.1) Renuncias voluntarias   \n",
       "..                                      ...   \n",
       "355  a.2 ) X otras causas (Indemnizaciones)   \n",
       "356              b.1) Renuncias voluntarias   \n",
       "357  a.2 ) X otras causas (Indemnizaciones)   \n",
       "358  a.2 ) X otras causas (Indemnizaciones)   \n",
       "359  a.2 ) X otras causas (Indemnizaciones)   \n",
       "\n",
       "                     Nombre del puesto  edad (días)  edad (años)       edad  \n",
       "0           TITULADO SUPERIOR O MASTER        25688    70.378082  70.378082  \n",
       "1           TITULADO SUPERIOR O MASTER        25688    70.378082  70.378082  \n",
       "2    TITULADO/TECNICO MEDIO O DE GRADO        11959    32.764384  32.764384  \n",
       "3                      EXPERTO NIVEL 2        12332    33.786301  33.786301  \n",
       "4           TITULADO SUPERIOR O MASTER        20282    55.567123  55.567123  \n",
       "..                                 ...          ...          ...        ...  \n",
       "355   ATENDENTE EXPERIENCIA CLIENTE II        10771    29.509589  29.509589  \n",
       "356           ATENDENTE TELEVENDAS III        11492    31.484932  31.484932  \n",
       "357   ATENDENTE EXPERIENCIA CLIENTE II        11226    30.756164  30.756164  \n",
       "358          ANALISTA GESTAO VENDAS SR        13506    37.002740  37.002740  \n",
       "359                       REPARADOR LA        17677    48.430137  48.430137  \n",
       "\n",
       "[360 rows x 15 columns]"
      ]
     },
     "execution_count": 477,
     "metadata": {},
     "output_type": "execute_result"
    }
   ],
   "source": [
    "df_bajas"
   ]
  },
  {
   "cell_type": "markdown",
   "id": "a29cfffa",
   "metadata": {},
   "source": [
    "### 3. Caracterización de trabajadores con mayor rotación"
   ]
  },
  {
   "cell_type": "code",
   "execution_count": 478,
   "id": "a363aaa3",
   "metadata": {},
   "outputs": [
    {
     "data": {
      "text/plain": [
       "count    583.000000\n",
       "mean      33.975803\n",
       "std        8.057410\n",
       "min       20.986301\n",
       "25%       27.645205\n",
       "50%       32.956164\n",
       "75%       39.416438\n",
       "max       60.857534\n",
       "Name: edad (años), dtype: float64"
      ]
     },
     "execution_count": 478,
     "metadata": {},
     "output_type": "execute_result"
    }
   ],
   "source": [
    "df_altas['edad (años)'].describe()"
   ]
  },
  {
   "cell_type": "code",
   "execution_count": 479,
   "id": "af3997f4",
   "metadata": {},
   "outputs": [
    {
     "data": {
      "text/plain": [
       "count    360.000000\n",
       "mean      36.533265\n",
       "std        8.083886\n",
       "min       22.197260\n",
       "25%       30.393151\n",
       "50%       36.075342\n",
       "75%       40.791781\n",
       "max       70.378082\n",
       "Name: edad (años), dtype: float64"
      ]
     },
     "execution_count": 479,
     "metadata": {},
     "output_type": "execute_result"
    }
   ],
   "source": [
    "df_bajas['edad (años)'].describe()"
   ]
  },
  {
   "cell_type": "code",
   "execution_count": 21,
   "id": "33ea07b9",
   "metadata": {},
   "outputs": [
    {
     "data": {
      "text/plain": [
       "ATENDENTE EXPERIENCIA CLIENTE II    114\n",
       "CONSULTOR NEGOCIOS LOJA 8H           68\n",
       "CONSULTOR NEGOCIOS LOJA I 6H         32\n",
       "RECEPCIONISTA LOJA                   28\n",
       "ATENDENTE CO                         27\n",
       "                                   ... \n",
       "CONSULTOR REDES                       1\n",
       "ANALISTA SUPORTE PL                   1\n",
       "ANALISTA PRODUCAO TI SR               1\n",
       "ANALISTA SUPORTE SISTEMAS JR          1\n",
       "ANALISTA QUALIDADE SR                 1\n",
       "Name: Nombre del puesto, Length: 119, dtype: int64"
      ]
     },
     "execution_count": 21,
     "metadata": {},
     "output_type": "execute_result"
    }
   ],
   "source": [
    "df_altas['Nombre del puesto'].value_counts()"
   ]
  },
  {
   "cell_type": "markdown",
   "id": "3d56f4a0",
   "metadata": {},
   "source": [
    "## Análisis 2.0"
   ]
  },
  {
   "cell_type": "code",
   "execution_count": 481,
   "id": "96215373",
   "metadata": {},
   "outputs": [
    {
     "data": {
      "text/plain": [
       "array(['ENCARGADO DE OPERACION', 'TITULADO SUPERIOR O MASTER',\n",
       "       'OPERADOR DE COMUNICACIONES', 'TITULADO/TECNICO MEDIO O DE GRADO',\n",
       "       'STAM', 'RESPONSABLE VENTAS 1 BASE', 'ADMINISTRATIVO',\n",
       "       'ASESOR COMERCIAL', 'EXPERTO NIVEL 2', 'DIRECTOR', 'JEFE',\n",
       "       'EXPERTO NIVEL 1', 'GERENTE', 'CONSULTOR', 'ASESOR BASE'],\n",
       "      dtype=object)"
      ]
     },
     "execution_count": 481,
     "metadata": {},
     "output_type": "execute_result"
    }
   ],
   "source": [
    "plan19['Nombre del puesto'].unique()[:15]"
   ]
  },
  {
   "cell_type": "code",
   "execution_count": 482,
   "id": "2d35cd51",
   "metadata": {},
   "outputs": [],
   "source": [
    "list_puest =['ENCARGADO DE OPERACION', 'TITULADO SUPERIOR O MASTER',\n",
    "       'OPERADOR DE COMUNICACIONES', 'TITULADO/TECNICO MEDIO O DE GRADO',\n",
    "       'STAM', 'RESPONSABLE VENTAS 1 BASE', 'ADMINISTRATIVO',\n",
    "       'ASESOR COMERCIAL', 'EXPERTO NIVEL 2', 'DIRECTOR', 'JEFE',\n",
    "       'EXPERTO NIVEL 1', 'GERENTE', 'CONSULTOR', 'ASESOR BASE']\n",
    "\n",
    "df_trab=plan19[plan19['Nombre del puesto'].isin(list_puest)]"
   ]
  },
  {
   "cell_type": "code",
   "execution_count": 483,
   "id": "932a6ea8",
   "metadata": {},
   "outputs": [
    {
     "data": {
      "text/plain": [
       "<seaborn.axisgrid.JointGrid at 0x7f8e26e4fc40>"
      ]
     },
     "execution_count": 483,
     "metadata": {},
     "output_type": "execute_result"
    },
    {
     "data": {
      "image/png": "[encoded data removed]",
      "text/plain": [
       "<Figure size 432x432 with 3 Axes>"
      ]
     },
     "metadata": {
      "needs_background": "light"
     },
     "output_type": "display_data"
    }
   ],
   "source": [
    "sns.jointplot(data=df_trab, x=\"Nombre del puesto\", y=\"antiguedad (años)\")"
   ]
  },
  {
   "cell_type": "markdown",
   "id": "9d4eb87f",
   "metadata": {},
   "source": [
    "Correlación entre variables:"
   ]
  },
  {
   "cell_type": "code",
   "execution_count": 526,
   "id": "8e6b3960",
   "metadata": {},
   "outputs": [
    {
     "data": {
      "image/png": "[encoded data removed]",
      "text/plain": [
       "<Figure size 792x648 with 2 Axes>"
      ]
     },
     "metadata": {
      "needs_background": "light"
     },
     "output_type": "display_data"
    }
   ],
   "source": [
    "# Compute the correlation matrix\n",
    "corr = plan19.corr()\n",
    "\n",
    "# Generate a mask for the upper triangle\n",
    "mask = np.triu(np.ones_like(corr, dtype=bool))\n",
    "\n",
    "# Set up the matplotlib figure\n",
    "f, ax = plt.subplots(figsize=(11, 9))\n",
    "\n",
    "# Generate a custom diverging colormap\n",
    "cmap = sns.diverging_palette(230, 20, as_cmap=True)\n",
    "\n",
    "# Draw the heatmap with the mask and correct aspect ratio\n",
    "sns.heatmap(corr, mask=mask, cmap=cmap, vmax=.3, center=0,\n",
    "            square=True, linewidths=.5, cbar_kws={\"shrink\": .5})\n",
    "\n",
    "plt.savefig('heatmap.png')"
   ]
  },
  {
   "cell_type": "code",
   "execution_count": 529,
   "id": "c3abb35d",
   "metadata": {},
   "outputs": [
    {
     "data": {
      "text/plain": [
       "Año                                                       NaN\n",
       "COD. UNIDAD DE NEGOCIO                               0.501010\n",
       "HORAS TEÓRICAS SEMANALES POR UNIDAD DE NEGOCIO       0.501010\n",
       "PROMEDIO DE HORAS  SEMANALES TRABAJADAS EN EL MES    1.000000\n",
       "antiguedad (días)                                   -0.395237\n",
       "antiguedad (años)                                   -0.395237\n",
       "año_alta                                             0.395807\n",
       "mes_alta                                            -0.054170\n",
       "edad (días)                                         -0.268302\n",
       "edad (años)                                         -0.268302\n",
       "Name: PROMEDIO DE HORAS  SEMANALES TRABAJADAS EN EL MES, dtype: float64"
      ]
     },
     "execution_count": 529,
     "metadata": {},
     "output_type": "execute_result"
    }
   ],
   "source": [
    "corr['PROMEDIO DE HORAS  SEMANALES TRABAJADAS EN EL MES']"
   ]
  },
  {
   "cell_type": "markdown",
   "id": "b71b3726",
   "metadata": {},
   "source": [
    "Interesante: correlacion negativo entre antigüedad en la empresa y horas dedicadas semanales. Cuanto mayor es la antigüedad en la empresa menos horas se dedica."
   ]
  },
  {
   "cell_type": "markdown",
   "id": "d0ef4d68",
   "metadata": {},
   "source": [
    "¿Existe influencia en la duración del empleado en la empresa si acepta el convenio aplicable?"
   ]
  },
  {
   "cell_type": "code",
   "execution_count": 485,
   "id": "a35644e4",
   "metadata": {},
   "outputs": [
    {
     "data": {
      "text/plain": [
       "27.814903737960424"
      ]
     },
     "execution_count": 485,
     "metadata": {},
     "output_type": "execute_result"
    }
   ],
   "source": [
    "plan19[plan19['Convenio Aplicable']==\"Sí\"]['antiguedad (años)'].mean()"
   ]
  },
  {
   "cell_type": "code",
   "execution_count": 486,
   "id": "93cd050c",
   "metadata": {},
   "outputs": [
    {
     "data": {
      "text/plain": [
       "10.49862675460877"
      ]
     },
     "execution_count": 486,
     "metadata": {},
     "output_type": "execute_result"
    }
   ],
   "source": [
    "plan19[plan19['Convenio Aplicable']==\"No\"]['antiguedad (años)'].mean()"
   ]
  },
  {
   "cell_type": "code",
   "execution_count": 487,
   "id": "0d8d3872",
   "metadata": {},
   "outputs": [
    {
     "data": {
      "text/plain": [
       "Sí    13270\n",
       "No    10530\n",
       "Name: Convenio Aplicable, dtype: int64"
      ]
     },
     "execution_count": 487,
     "metadata": {},
     "output_type": "execute_result"
    }
   ],
   "source": [
    "plan19['Convenio Aplicable'].value_counts()"
   ]
  },
  {
   "cell_type": "markdown",
   "id": "7c6e7a84",
   "metadata": {},
   "source": [
    "Número de empleados por pais "
   ]
  },
  {
   "cell_type": "code",
   "execution_count": 488,
   "id": "ad9a6f05",
   "metadata": {},
   "outputs": [
    {
     "data": {
      "text/plain": [
       "Brasil    32412\n",
       "España    16019\n",
       "Name: Localización País, dtype: int64"
      ]
     },
     "execution_count": 488,
     "metadata": {},
     "output_type": "execute_result"
    }
   ],
   "source": [
    "plan19['Localización País'].value_counts()"
   ]
  },
  {
   "cell_type": "code",
   "execution_count": 489,
   "id": "165381c3",
   "metadata": {},
   "outputs": [
    {
     "data": {
      "text/plain": [
       "<AxesSubplot:>"
      ]
     },
     "execution_count": 489,
     "metadata": {},
     "output_type": "execute_result"
    },
    {
     "data": {
      "image/png": "[encoded data removed]",
      "text/plain": [
       "<Figure size 1296x576 with 1 Axes>"
      ]
     },
     "metadata": {
      "needs_background": "light"
     },
     "output_type": "display_data"
    }
   ],
   "source": [
    "plan19['Localización País'].value_counts().plot(kind='bar')"
   ]
  },
  {
   "cell_type": "markdown",
   "id": "7cf4a10f",
   "metadata": {},
   "source": [
    "¿Qué divisiones existen en cada país?"
   ]
  },
  {
   "cell_type": "code",
   "execution_count": 504,
   "id": "1ce67d30",
   "metadata": {},
   "outputs": [],
   "source": [
    "esp = plan19[plan19['Localización País']==\"España\"]\n",
    "bra = plan19[plan19['Localización País']==\"Brasil\"]"
   ]
  },
  {
   "cell_type": "code",
   "execution_count": 505,
   "id": "2cb07dc2",
   "metadata": {},
   "outputs": [
    {
     "data": {
      "text/plain": [
       "OPERACIONES, RED Y TI                   9174\n",
       "CONSEJERA DELEGADA COO                  2152\n",
       "TERRITORIAL CENTRO Y SECTORES GGCC      1087\n",
       "TERRITORIAL MEDITERRANEO                1018\n",
       "TERRITORIAL SUR                          676\n",
       "TERRITORIAL NORTE                        596\n",
       "FINANZAS Y CONTROL DE GESTION            447\n",
       "SEGURIDAD Y PREVENCION DEL FRAUDE        255\n",
       "ESTRATEGIA                               241\n",
       "RECURSOS HUMANOS                         164\n",
       "CALIDAD Y TRANSFORMACION                  97\n",
       "SECRETARIO GENERAL Y REGULACION           71\n",
       "AUDITORIA, INSPECCION E INTERVENCION      20\n",
       "VIDEO ESPAÑA                              12\n",
       "DESARROLLO DE NEGOCIO MULTIMARCA           9\n",
       "Name: División, dtype: int64"
      ]
     },
     "execution_count": 505,
     "metadata": {},
     "output_type": "execute_result"
    }
   ],
   "source": [
    "divisiones=esp['División'].unique()\n",
    "divisiones_bra = bra['División'].unique()\n",
    "esp['División'].value_counts()"
   ]
  },
  {
   "cell_type": "code",
   "execution_count": 506,
   "id": "3f09a54c",
   "metadata": {},
   "outputs": [
    {
     "data": {
      "text/plain": [
       "BRA - VP Engenharia e Servicos ao Cliente    11434\n",
       "BRA - VP B2C                                  7563\n",
       "BRA - VP Atendimento ao Cliente               6309\n",
       "BRA - VP B2B e Atacado                        2685\n",
       "BRA - VP Tecnologia Informacao                1856\n",
       "BRA - Chief Financial Officer                 1115\n",
       "BRA - VP Pessoas                               537\n",
       "BRA - VP Dados e Inteligencia Artificial       272\n",
       "BRA - VP Transformacao e Qualidade             244\n",
       "BRA - VP Juridico                              212\n",
       "BRA - VP Assuntos Regulatórios                 112\n",
       "BRA - Presidencia                               72\n",
       "BRA_VP de Relacoes Institucionais                1\n",
       "Name: División, dtype: int64"
      ]
     },
     "execution_count": 506,
     "metadata": {},
     "output_type": "execute_result"
    }
   ],
   "source": [
    "bra['División'].value_counts()"
   ]
  },
  {
   "cell_type": "markdown",
   "id": "ce94aac1",
   "metadata": {},
   "source": [
    "¿Existe disparidad entre la longevidad de los empleados según el país?"
   ]
  },
  {
   "cell_type": "code",
   "execution_count": 507,
   "id": "afcd0ad1",
   "metadata": {},
   "outputs": [
    {
     "data": {
      "text/plain": [
       "27.278040888088604"
      ]
     },
     "execution_count": 507,
     "metadata": {},
     "output_type": "execute_result"
    }
   ],
   "source": [
    "esp['antiguedad (años)'].mean()"
   ]
  },
  {
   "cell_type": "code",
   "execution_count": 508,
   "id": "ba6df902",
   "metadata": {},
   "outputs": [
    {
     "data": {
      "text/plain": [
       "31.9013698630137"
      ]
     },
     "execution_count": 508,
     "metadata": {},
     "output_type": "execute_result"
    }
   ],
   "source": [
    "stat.mode(esp['antiguedad (años)'])"
   ]
  },
  {
   "cell_type": "code",
   "execution_count": 509,
   "id": "9d2a98be",
   "metadata": {},
   "outputs": [
    {
     "data": {
      "text/plain": [
       "8.476188846005414"
      ]
     },
     "execution_count": 509,
     "metadata": {},
     "output_type": "execute_result"
    }
   ],
   "source": [
    "bra['antiguedad (años)'].mean()"
   ]
  },
  {
   "cell_type": "code",
   "execution_count": 510,
   "id": "c8141f23",
   "metadata": {},
   "outputs": [
    {
     "data": {
      "text/plain": [
       "3.0027397260273974"
      ]
     },
     "execution_count": 510,
     "metadata": {},
     "output_type": "execute_result"
    }
   ],
   "source": [
    "stat.mode(bra['antiguedad (años)'])"
   ]
  },
  {
   "cell_type": "markdown",
   "id": "5d924ddc",
   "metadata": {},
   "source": [
    "Localizaciones por país"
   ]
  },
  {
   "cell_type": "code",
   "execution_count": 511,
   "id": "adc8f28e",
   "metadata": {},
   "outputs": [
    {
     "data": {
      "image/png": "[encoded data removed]",
      "text/plain": [
       "<Figure size 1296x576 with 1 Axes>"
      ]
     },
     "metadata": {
      "needs_background": "light"
     },
     "output_type": "display_data"
    }
   ],
   "source": [
    "esp['Localización Ciudad'].value_counts()[0:10].plot(kind='bar')\n",
    "plt.savefig('loc_empleados_esp.png')"
   ]
  },
  {
   "cell_type": "code",
   "execution_count": 515,
   "id": "c4922300",
   "metadata": {},
   "outputs": [
    {
     "data": {
      "text/plain": [
       "São Paulo         5951\n",
       "Curitiba          5920\n",
       "SÃO PAULO         2122\n",
       "Sao Paulo         2010\n",
       "Fortaleza         1642\n",
       "RIO DE JANEIRO    1405\n",
       "Maringá           1214\n",
       "Belo Horizonte     768\n",
       "SAO PAULO          646\n",
       "Brasília           550\n",
       "Name: Localización Ciudad, dtype: int64"
      ]
     },
     "execution_count": 515,
     "metadata": {},
     "output_type": "execute_result"
    }
   ],
   "source": [
    "bra['Localización Ciudad'].value_counts()[:10]"
   ]
  },
  {
   "cell_type": "code",
   "execution_count": 512,
   "id": "246c986f",
   "metadata": {},
   "outputs": [
    {
     "data": {
      "image/png": "[encoded data removed]",
      "text/plain": [
       "<Figure size 1296x576 with 1 Axes>"
      ]
     },
     "metadata": {
      "needs_background": "light"
     },
     "output_type": "display_data"
    }
   ],
   "source": [
    "bra['Localización Ciudad'].value_counts()[0:10].plot(kind='bar')\n",
    "plt.savefig('loc_empleados_bra.png')"
   ]
  },
  {
   "cell_type": "markdown",
   "id": "7d19c7d3",
   "metadata": {},
   "source": [
    "¿En qué ciudades estan distribuidos los empleados en función de su división?"
   ]
  },
  {
   "cell_type": "code",
   "execution_count": 383,
   "id": "63373da6",
   "metadata": {},
   "outputs": [
    {
     "data": {
      "text/plain": [
       "<AxesSubplot:>"
      ]
     },
     "execution_count": 383,
     "metadata": {},
     "output_type": "execute_result"
    },
    {
     "data": {
      "image/png": "[encoded data removed]",
      "text/plain": [
       "<Figure size 1296x576 with 1 Axes>"
      ]
     },
     "metadata": {
      "needs_background": "light"
     },
     "output_type": "display_data"
    }
   ],
   "source": [
    "esp[esp['División']==\"OPERACIONES, RED Y TI\"]['Localización Ciudad'].value_counts()[0:10].plot(kind='bar')"
   ]
  },
  {
   "cell_type": "code",
   "execution_count": 384,
   "id": "56873346",
   "metadata": {},
   "outputs": [
    {
     "data": {
      "text/plain": [
       "<AxesSubplot:>"
      ]
     },
     "execution_count": 384,
     "metadata": {},
     "output_type": "execute_result"
    },
    {
     "data": {
      "image/png": "[encoded data removed]",
      "text/plain": [
       "<Figure size 1296x576 with 1 Axes>"
      ]
     },
     "metadata": {
      "needs_background": "light"
     },
     "output_type": "display_data"
    }
   ],
   "source": [
    "esp[esp['División']==\"CONSEJERA DELEGADA COO\"]['Localización Ciudad'].value_counts()[0:10].plot(kind='bar')"
   ]
  },
  {
   "cell_type": "code",
   "execution_count": 385,
   "id": "9c021b5a",
   "metadata": {},
   "outputs": [
    {
     "data": {
      "text/plain": [
       "<AxesSubplot:>"
      ]
     },
     "execution_count": 385,
     "metadata": {},
     "output_type": "execute_result"
    },
    {
     "data": {
      "image/png": "[encoded data removed]",
      "text/plain": [
       "<Figure size 1296x576 with 1 Axes>"
      ]
     },
     "metadata": {
      "needs_background": "light"
     },
     "output_type": "display_data"
    }
   ],
   "source": [
    "esp[esp['División']==\"TERRITORIAL CENTRO Y SECTORES GGCC\"]['Localización Ciudad'].value_counts()[0:10].plot(kind='bar')"
   ]
  },
  {
   "cell_type": "code",
   "execution_count": 517,
   "id": "3a13e14c",
   "metadata": {},
   "outputs": [
    {
     "data": {
      "text/plain": [
       "5757"
      ]
     },
     "execution_count": 517,
     "metadata": {},
     "output_type": "execute_result"
    }
   ],
   "source": [
    "len(esp[esp['Localización Ciudad']==\"MADRID\"])"
   ]
  },
  {
   "cell_type": "code",
   "execution_count": 521,
   "id": "d139a630",
   "metadata": {},
   "outputs": [
    {
     "data": {
      "text/plain": [
       "1863"
      ]
     },
     "execution_count": 521,
     "metadata": {},
     "output_type": "execute_result"
    }
   ],
   "source": [
    "len(esp[esp['Localización Ciudad']==\"BARCELONA\"])"
   ]
  },
  {
   "cell_type": "code",
   "execution_count": 523,
   "id": "5bdde826",
   "metadata": {},
   "outputs": [
    {
     "data": {
      "text/plain": [
       "8399"
      ]
     },
     "execution_count": 523,
     "metadata": {},
     "output_type": "execute_result"
    }
   ],
   "source": [
    "len(esp[(esp['Localización Ciudad']!=\"MADRID\") & (esp['Localización Ciudad']!=\"BARCELONA\")])"
   ]
  },
  {
   "cell_type": "markdown",
   "id": "af1d0ea6",
   "metadata": {},
   "source": [
    "Permanencia media de los trabajadores por división"
   ]
  },
  {
   "cell_type": "code",
   "execution_count": 386,
   "id": "bf3deccb",
   "metadata": {},
   "outputs": [
    {
     "name": "stdout",
     "output_type": "stream",
     "text": [
      "La media de permanencia en el dpto OPERACIONES, RED Y TI es de: 29.93925298117612 años\n",
      "La media de permanencia en el dpto CONSEJERA DELEGADA COO es de: 24.31161455415814 años\n",
      "La media de permanencia en el dpto ESTRATEGIA es de: 17.46247939521401 años\n",
      "La media de permanencia en el dpto TERRITORIAL MEDITERRANEO es de: 25.318249589579345 años\n",
      "La media de permanencia en el dpto TERRITORIAL CENTRO Y SECTORES GGCC es de: 20.862285289410313 años\n",
      "La media de permanencia en el dpto SEGURIDAD Y PREVENCION DEL FRAUDE es de: 23.247187751813044 años\n",
      "La media de permanencia en el dpto FINANZAS Y CONTROL DE GESTION es de: 25.417829671171578 años\n",
      "La media de permanencia en el dpto RECURSOS HUMANOS es de: 24.47378884062813 años\n",
      "La media de permanencia en el dpto TERRITORIAL SUR es de: 25.14426521844849 años\n",
      "La media de permanencia en el dpto TERRITORIAL NORTE es de: 23.903705065734982 años\n",
      "La media de permanencia en el dpto DESARROLLO DE NEGOCIO MULTIMARCA es de: 17.573820395738206 años\n",
      "La media de permanencia en el dpto CALIDAD Y TRANSFORMACION es de: 23.324445699759924 años\n",
      "La media de permanencia en el dpto SECRETARIO GENERAL Y REGULACION es de: 23.428709241751875 años\n",
      "La media de permanencia en el dpto VIDEO ESPAÑA es de: 18.620776255707764 años\n",
      "La media de permanencia en el dpto AUDITORIA, INSPECCION E INTERVENCION es de: 21.342465753424662 años\n"
     ]
    }
   ],
   "source": [
    "for i in divisiones: \n",
    "    print(\"La media de permanencia en el dpto\",i,\"es de:\",esp[esp['División']==i]['antiguedad (años)'].mean(),\"años\")"
   ]
  },
  {
   "cell_type": "code",
   "execution_count": 405,
   "id": "e20adde9",
   "metadata": {},
   "outputs": [
    {
     "data": {
      "text/plain": [
       "27.275301162061435"
      ]
     },
     "execution_count": 405,
     "metadata": {},
     "output_type": "execute_result"
    }
   ],
   "source": [
    "esp['antiguedad (años)'].mean()"
   ]
  },
  {
   "cell_type": "code",
   "execution_count": 398,
   "id": "1a662a22",
   "metadata": {},
   "outputs": [
    {
     "name": "stdout",
     "output_type": "stream",
     "text": [
      "La media de permanencia en el dpto BRA - Presidencia es de: 10.57108066971081 años\n",
      "La media de permanencia en el dpto BRA_VP de Relacoes Institucionais es de: 2.9424657534246577 años\n",
      "La media de permanencia en el dpto BRA - Chief Financial Officer es de: 11.043621844093613 años\n",
      "La media de permanencia en el dpto BRA - VP Pessoas es de: 10.417137317925555 años\n",
      "La media de permanencia en el dpto BRA - VP Juridico es de: 11.036017058671495 años\n",
      "La media de permanencia en el dpto BRA - VP Assuntos Regulatórios es de: 12.460861056751474 años\n",
      "La media de permanencia en el dpto BRA - VP Tecnologia Informacao es de: 8.902358880491292 años\n",
      "La media de permanencia en el dpto BRA - VP Engenharia e Servicos ao Cliente es de: 9.74125259679731 años\n",
      "La media de permanencia en el dpto BRA - VP Dados e Inteligencia Artificial es de: 8.120326349717967 años\n",
      "La media de permanencia en el dpto BRA - VP Atendimento ao Cliente es de: 6.265504161265484 años\n",
      "La media de permanencia en el dpto BRA - VP B2C es de: 7.241661006449829 años\n",
      "La media de permanencia en el dpto BRA - VP B2B e Atacado es de: 9.559504094283266 años\n",
      "La media de permanencia en el dpto BRA - VP Transformacao e Qualidade es de: 8.83800808443745 años\n"
     ]
    }
   ],
   "source": [
    "for i in divisiones_bra: \n",
    "    print(\"La media de permanencia en el dpto\",i,\"es de:\",bra[bra['División']==i]['antiguedad (años)'].mean(),\"años\")"
   ]
  },
  {
   "cell_type": "markdown",
   "id": "f5dee51c",
   "metadata": {},
   "source": [
    "Edades por division"
   ]
  },
  {
   "cell_type": "code",
   "execution_count": 390,
   "id": "45379ace",
   "metadata": {},
   "outputs": [
    {
     "name": "stdout",
     "output_type": "stream",
     "text": [
      "Dpto: OPERACIONES, RED Y TI media: 53.64 minima: 25.61 maxima: 74.0 moda 55.12054794520548\n",
      "Dpto: CONSEJERA DELEGADA COO media: 50.22 minima: 26.09 maxima: 72.13 moda 52.92602739726028\n",
      "Dpto: ESTRATEGIA media: 44.63 minima: 25.76 maxima: 66.19 moda 55.016438356164386\n",
      "Dpto: TERRITORIAL MEDITERRANEO media: 50.99 minima: 25.78 maxima: 71.32 moda 51.66849315068493\n",
      "Dpto: TERRITORIAL CENTRO Y SECTORES GGCC media: 49.27 minima: 28.38 maxima: 71.93 moda 54.92876712328767\n",
      "Dpto: SEGURIDAD Y PREVENCION DEL FRAUDE media: 48.75 minima: 26.99 maxima: 70.53 moda 54.58904109589041\n",
      "Dpto: FINANZAS Y CONTROL DE GESTION media: 51.61 minima: 28.62 maxima: 71.29 moda 60.85205479452055\n",
      "Dpto: RECURSOS HUMANOS media: 50.51 minima: 28.82 maxima: 72.25 moda 54.367123287671234\n",
      "Dpto: TERRITORIAL SUR media: 50.68 minima: 28.01 maxima: 63.89 moda 53.78904109589041\n",
      "Dpto: TERRITORIAL NORTE media: 50.79 minima: 27.68 maxima: 65.5 moda 55.04383561643836\n",
      "Dpto: DESARROLLO DE NEGOCIO MULTIMARCA media: 44.66 minima: 34.05 maxima: 55.32 moda 34.04657534246575\n",
      "Dpto: CALIDAD Y TRANSFORMACION media: 50.35 minima: 30.85 maxima: 75.41 moda 53.06849315068493\n",
      "Dpto: SECRETARIO GENERAL Y REGULACION media: 49.18 minima: 31.13 maxima: 71.86 moda 56.35342465753425\n",
      "Dpto: VIDEO ESPAÑA media: 48.98 minima: 42.43 maxima: 55.06 moda 44.794520547945204\n",
      "Dpto: AUDITORIA, INSPECCION E INTERVENCION media: 48.43 minima: 30.27 maxima: 56.42 moda 48.558904109589044\n"
     ]
    }
   ],
   "source": [
    "for i in divisiones: \n",
    "    print(\"Dpto:\",i,\"media:\",round(esp[esp['División']==i]['edad (años)'].mean(),2),\n",
    "          \"minima:\",round(esp[esp['División']==i]['edad (años)'].min(),2),\n",
    "          \"maxima:\",round(esp[esp['División']==i]['edad (años)'].max(),2),\n",
    "          \"moda\",stat.mode(esp[esp['División']==i]['edad (años)'])\n",
    "         )"
   ]
  },
  {
   "cell_type": "code",
   "execution_count": 401,
   "id": "56f225be",
   "metadata": {},
   "outputs": [
    {
     "name": "stdout",
     "output_type": "stream",
     "text": [
      "Dpto: BRA - Presidencia media: 42.0 minima: 28.94 maxima: 62.98 moda 53.608219178082194\n",
      "Dpto: BRA_VP de Relacoes Institucionais media: 59.73 minima: 59.73 maxima: 59.73 moda 59.726027397260275\n",
      "Dpto: BRA - Chief Financial Officer media: 41.12 minima: 25.14 maxima: 67.75 moda 38.893150684931506\n",
      "Dpto: BRA - VP Pessoas media: 40.63 minima: 23.65 maxima: 69.75 moda 36.172602739726024\n",
      "Dpto: BRA - VP Juridico media: 41.51 minima: 27.32 maxima: 73.07 moda 39.61369863013699\n",
      "Dpto: BRA - VP Assuntos Regulatórios media: 44.3 minima: 27.42 maxima: 62.83 moda 54.63835616438356\n",
      "Dpto: BRA - VP Tecnologia Informacao media: 40.09 minima: 23.69 maxima: 75.74 moda 39.18082191780822\n",
      "Dpto: BRA - VP Engenharia e Servicos ao Cliente media: 40.67 minima: 21.05 maxima: 72.09 moda 46.11506849315069\n",
      "Dpto: BRA - VP Dados e Inteligencia Artificial media: 38.32 minima: 25.24 maxima: 55.81 moda 31.063013698630137\n",
      "Dpto: BRA - VP Atendimento ao Cliente media: 33.95 minima: 21.16 maxima: 68.05 moda 25.172602739726027\n",
      "Dpto: BRA - VP B2C media: 35.43 minima: 21.01 maxima: 70.84 moda 34.394520547945206\n",
      "Dpto: BRA - VP B2B e Atacado media: 41.93 minima: 23.98 maxima: 70.2 moda 43.293150684931504\n",
      "Dpto: BRA - VP Transformacao e Qualidade media: 38.01 minima: 25.05 maxima: 60.57 moda 39.367123287671234\n"
     ]
    }
   ],
   "source": [
    "for i in divisiones_bra: \n",
    "    print(\"Dpto:\",i,\"media:\",round(bra[bra['División']==i]['edad (años)'].mean(),2),\n",
    "          \"minima:\",round(bra[bra['División']==i]['edad (años)'].min(),2),\n",
    "          \"maxima:\",round(bra[bra['División']==i]['edad (años)'].max(),2),\n",
    "          \"moda\",stat.mode(bra[bra['División']==i]['edad (años)'])\n",
    "         )"
   ]
  },
  {
   "cell_type": "code",
   "execution_count": 532,
   "id": "209e5cf8",
   "metadata": {},
   "outputs": [
    {
     "data": {
      "text/plain": [
       "52.133325579983506"
      ]
     },
     "execution_count": 532,
     "metadata": {},
     "output_type": "execute_result"
    }
   ],
   "source": [
    "esp['edad (años)'].mean()"
   ]
  },
  {
   "cell_type": "markdown",
   "id": "cb5b3ecc",
   "metadata": {},
   "source": [
    "Géneros por división"
   ]
  },
  {
   "cell_type": "code",
   "execution_count": 167,
   "id": "abe885fc",
   "metadata": {},
   "outputs": [
    {
     "name": "stdout",
     "output_type": "stream",
     "text": [
      "OPERACIONES, RED Y TI\n",
      "CONSEJERA DELEGADA COO\n",
      "ESTRATEGIA\n",
      "TERRITORIAL MEDITERRANEO\n",
      "TERRITORIAL CENTRO Y SECTORES GGCC\n",
      "SEGURIDAD Y PREVENCION DEL FRAUDE\n",
      "FINANZAS Y CONTROL DE GESTION\n",
      "RECURSOS HUMANOS\n",
      "TERRITORIAL SUR\n",
      "TERRITORIAL NORTE\n",
      "DESARROLLO DE NEGOCIO MULTIMARCA\n",
      "CALIDAD Y TRANSFORMACION\n",
      "SECRETARIO GENERAL Y REGULACION\n",
      "VIDEO ESPAÑA\n",
      "AUDITORIA, INSPECCION E INTERVENCION\n"
     ]
    },
    {
     "data": {
      "image/png": "[encoded data removed]",
      "text/plain": [
       "<Figure size 432x288 with 1 Axes>"
      ]
     },
     "metadata": {
      "needs_background": "light"
     },
     "output_type": "display_data"
    }
   ],
   "source": [
    "for i in divisiones: \n",
    "    print(i)\n",
    "    esp[esp['División']==i]['Género'].value_counts().plot(kind='bar')"
   ]
  },
  {
   "cell_type": "markdown",
   "id": "ab960b32",
   "metadata": {},
   "source": [
    "Contrataciones por mes"
   ]
  },
  {
   "cell_type": "code",
   "execution_count": 391,
   "id": "521a348c",
   "metadata": {
    "scrolled": true
   },
   "outputs": [
    {
     "data": {
      "text/plain": [
       "<AxesSubplot:>"
      ]
     },
     "execution_count": 391,
     "metadata": {},
     "output_type": "execute_result"
    },
    {
     "data": {
      "image/png": "[encoded data removed]",
      "text/plain": [
       "<Figure size 1296x576 with 1 Axes>"
      ]
     },
     "metadata": {
      "needs_background": "light"
     },
     "output_type": "display_data"
    }
   ],
   "source": [
    "plan19['mes_alta'].value_counts().plot(kind='bar')"
   ]
  },
  {
   "cell_type": "markdown",
   "id": "c6169c63",
   "metadata": {},
   "source": [
    "Contrataciones por mes y género"
   ]
  },
  {
   "cell_type": "code",
   "execution_count": 117,
   "id": "ad0972a7",
   "metadata": {},
   "outputs": [
    {
     "data": {
      "text/html": [
       "<div>\n",
       "<style scoped>\n",
       "    .dataframe tbody tr th:only-of-type {\n",
       "        vertical-align: middle;\n",
       "    }\n",
       "\n",
       "    .dataframe tbody tr th {\n",
       "        vertical-align: top;\n",
       "    }\n",
       "\n",
       "    .dataframe thead th {\n",
       "        text-align: right;\n",
       "    }\n",
       "</style>\n",
       "<table border=\"1\" class=\"dataframe\">\n",
       "  <thead>\n",
       "    <tr style=\"text-align: right;\">\n",
       "      <th></th>\n",
       "      <th>mes_alta</th>\n",
       "      <th>Género</th>\n",
       "      <th>count</th>\n",
       "    </tr>\n",
       "  </thead>\n",
       "  <tbody>\n",
       "    <tr>\n",
       "      <th>0</th>\n",
       "      <td>01</td>\n",
       "      <td>M</td>\n",
       "      <td>2343</td>\n",
       "    </tr>\n",
       "    <tr>\n",
       "      <th>1</th>\n",
       "      <td>01</td>\n",
       "      <td>F</td>\n",
       "      <td>1684</td>\n",
       "    </tr>\n",
       "    <tr>\n",
       "      <th>2</th>\n",
       "      <td>02</td>\n",
       "      <td>M</td>\n",
       "      <td>1970</td>\n",
       "    </tr>\n",
       "    <tr>\n",
       "      <th>3</th>\n",
       "      <td>02</td>\n",
       "      <td>F</td>\n",
       "      <td>1425</td>\n",
       "    </tr>\n",
       "    <tr>\n",
       "      <th>4</th>\n",
       "      <td>03</td>\n",
       "      <td>M</td>\n",
       "      <td>2284</td>\n",
       "    </tr>\n",
       "    <tr>\n",
       "      <th>5</th>\n",
       "      <td>03</td>\n",
       "      <td>F</td>\n",
       "      <td>1313</td>\n",
       "    </tr>\n",
       "    <tr>\n",
       "      <th>6</th>\n",
       "      <td>04</td>\n",
       "      <td>M</td>\n",
       "      <td>2738</td>\n",
       "    </tr>\n",
       "    <tr>\n",
       "      <th>7</th>\n",
       "      <td>04</td>\n",
       "      <td>F</td>\n",
       "      <td>1533</td>\n",
       "    </tr>\n",
       "    <tr>\n",
       "      <th>8</th>\n",
       "      <td>05</td>\n",
       "      <td>M</td>\n",
       "      <td>2561</td>\n",
       "    </tr>\n",
       "    <tr>\n",
       "      <th>9</th>\n",
       "      <td>05</td>\n",
       "      <td>F</td>\n",
       "      <td>1512</td>\n",
       "    </tr>\n",
       "  </tbody>\n",
       "</table>\n",
       "</div>"
      ],
      "text/plain": [
       "  mes_alta Género  count\n",
       "0       01      M   2343\n",
       "1       01      F   1684\n",
       "2       02      M   1970\n",
       "3       02      F   1425\n",
       "4       03      M   2284\n",
       "5       03      F   1313\n",
       "6       04      M   2738\n",
       "7       04      F   1533\n",
       "8       05      M   2561\n",
       "9       05      F   1512"
      ]
     },
     "execution_count": 117,
     "metadata": {},
     "output_type": "execute_result"
    }
   ],
   "source": [
    "month_pos=pd.DataFrame(plan19.groupby('mes_alta')['Género'].value_counts())\n",
    "month_pos.rename(columns = {'Género':'count'}, inplace = True)\n",
    "month_pos=month_pos.reset_index()\n",
    "month_pos.head(10)"
   ]
  },
  {
   "cell_type": "code",
   "execution_count": 450,
   "id": "26a6ee04",
   "metadata": {},
   "outputs": [
    {
     "data": {
      "image/png": "[encoded data removed]",
      "text/plain": [
       "<Figure size 2016x1440 with 1 Axes>"
      ]
     },
     "metadata": {
      "needs_background": "light"
     },
     "output_type": "display_data"
    }
   ],
   "source": [
    "ax = sns.catplot(x=\"mes_alta\", y=\"count\",\n",
    "                hue=\"Género\",\n",
    "                data=month_pos, kind=\"bar\",\n",
    "                height=20, aspect=1.4, legend=False)\n",
    "plt.legend(fontsize='40', title_fontsize='60')\n",
    "plt.savefig('contrat_mes_genero.png')"
   ]
  },
  {
   "cell_type": "markdown",
   "id": "c286e442",
   "metadata": {},
   "source": [
    "Trabajadores que dedican menos de las horas teoricas estipuladas"
   ]
  },
  {
   "cell_type": "code",
   "execution_count": 227,
   "id": "b30f82aa",
   "metadata": {},
   "outputs": [
    {
     "data": {
      "text/html": [
       "<div>\n",
       "<style scoped>\n",
       "    .dataframe tbody tr th:only-of-type {\n",
       "        vertical-align: middle;\n",
       "    }\n",
       "\n",
       "    .dataframe tbody tr th {\n",
       "        vertical-align: top;\n",
       "    }\n",
       "\n",
       "    .dataframe thead th {\n",
       "        text-align: right;\n",
       "    }\n",
       "</style>\n",
       "<table border=\"1\" class=\"dataframe\">\n",
       "  <thead>\n",
       "    <tr style=\"text-align: right;\">\n",
       "      <th></th>\n",
       "      <th>Convenio Aplicable</th>\n",
       "      <th>Localización País</th>\n",
       "      <th>Área Funcional</th>\n",
       "      <th>Localización Ciudad</th>\n",
       "      <th>Subactividad_desc</th>\n",
       "      <th>Año</th>\n",
       "      <th>COD. UNIDAD DE NEGOCIO</th>\n",
       "      <th>Mes</th>\n",
       "      <th>Reducción de Jormada</th>\n",
       "      <th>Tipo de contrato</th>\n",
       "      <th>División</th>\n",
       "      <th>Subactividad</th>\n",
       "      <th>Género</th>\n",
       "      <th>Departamento</th>\n",
       "      <th>HORAS TEÓRICAS SEMANALES POR UNIDAD DE NEGOCIO</th>\n",
       "      <th>Nombre del puesto</th>\n",
       "      <th>Nacionalidad</th>\n",
       "      <th>Estado de empleado</th>\n",
       "      <th>PROMEDIO DE HORAS  SEMANALES TRABAJADAS EN EL MES</th>\n",
       "      <th>Fecha de Nacimiento</th>\n",
       "      <th>Clase de empleado</th>\n",
       "      <th>Discapacidad</th>\n",
       "      <th>Fecha de Alta</th>\n",
       "      <th>ID persona</th>\n",
       "      <th>antiguedad (días)</th>\n",
       "      <th>antiguedad (años)</th>\n",
       "      <th>edad (días)</th>\n",
       "      <th>edad (años)</th>\n",
       "      <th>numero</th>\n",
       "      <th>Fecha2</th>\n",
       "    </tr>\n",
       "  </thead>\n",
       "  <tbody>\n",
       "    <tr>\n",
       "      <th>52</th>\n",
       "      <td>Sí</td>\n",
       "      <td>España</td>\n",
       "      <td>Seguridad y Prot. - Seguridad Física</td>\n",
       "      <td>BARCELONA</td>\n",
       "      <td>vigilanciayseguridad</td>\n",
       "      <td>2019</td>\n",
       "      <td>156</td>\n",
       "      <td>Jul</td>\n",
       "      <td>Sí</td>\n",
       "      <td>Fijo</td>\n",
       "      <td>SEGURIDAD Y PREVENCION DEL FRAUDE</td>\n",
       "      <td>Vigilancia y Seguridad</td>\n",
       "      <td>M</td>\n",
       "      <td>NaN</td>\n",
       "      <td>37.5</td>\n",
       "      <td>ADMINISTRATIVO</td>\n",
       "      <td>ESPAÑOLA</td>\n",
       "      <td>Activo</td>\n",
       "      <td>32.8</td>\n",
       "      <td>1969-01-14</td>\n",
       "      <td>EMP</td>\n",
       "      <td>No</td>\n",
       "      <td>1988-06-01</td>\n",
       "      <td>Persona 1716904</td>\n",
       "      <td>12427</td>\n",
       "      <td>34.046575</td>\n",
       "      <td>19505</td>\n",
       "      <td>34.046575</td>\n",
       "      <td>1</td>\n",
       "      <td>1988-06-01</td>\n",
       "    </tr>\n",
       "    <tr>\n",
       "      <th>59</th>\n",
       "      <td>Sí</td>\n",
       "      <td>España</td>\n",
       "      <td>Seguridad y Prot. - Seguridad Física</td>\n",
       "      <td>SEVILLA</td>\n",
       "      <td>vigilanciayseguridad</td>\n",
       "      <td>2019</td>\n",
       "      <td>156</td>\n",
       "      <td>Jul</td>\n",
       "      <td>Sí</td>\n",
       "      <td>Fijo</td>\n",
       "      <td>SEGURIDAD Y PREVENCION DEL FRAUDE</td>\n",
       "      <td>Vigilancia y Seguridad</td>\n",
       "      <td>M</td>\n",
       "      <td>NaN</td>\n",
       "      <td>37.5</td>\n",
       "      <td>ADMINISTRATIVO</td>\n",
       "      <td>ESPAÑOLA</td>\n",
       "      <td>Activo</td>\n",
       "      <td>32.8</td>\n",
       "      <td>1951-12-19</td>\n",
       "      <td>EMP</td>\n",
       "      <td>No</td>\n",
       "      <td>1982-06-21</td>\n",
       "      <td>Persona 1716911</td>\n",
       "      <td>14599</td>\n",
       "      <td>39.997260</td>\n",
       "      <td>25741</td>\n",
       "      <td>39.997260</td>\n",
       "      <td>1</td>\n",
       "      <td>1982-06-21</td>\n",
       "    </tr>\n",
       "    <tr>\n",
       "      <th>62</th>\n",
       "      <td>Sí</td>\n",
       "      <td>España</td>\n",
       "      <td>Seguridad y Prot. - Seguridad Física</td>\n",
       "      <td>SEVILLA</td>\n",
       "      <td>vigilanciayseguridad</td>\n",
       "      <td>2019</td>\n",
       "      <td>156</td>\n",
       "      <td>Jul</td>\n",
       "      <td>Sí</td>\n",
       "      <td>Fijo</td>\n",
       "      <td>SEGURIDAD Y PREVENCION DEL FRAUDE</td>\n",
       "      <td>Vigilancia y Seguridad</td>\n",
       "      <td>M</td>\n",
       "      <td>NaN</td>\n",
       "      <td>37.5</td>\n",
       "      <td>ADMINISTRATIVO</td>\n",
       "      <td>ESPAÑOLA</td>\n",
       "      <td>Activo</td>\n",
       "      <td>32.8</td>\n",
       "      <td>1963-02-04</td>\n",
       "      <td>EMP</td>\n",
       "      <td>No</td>\n",
       "      <td>1982-12-22</td>\n",
       "      <td>Persona 1716914</td>\n",
       "      <td>14415</td>\n",
       "      <td>39.493151</td>\n",
       "      <td>21676</td>\n",
       "      <td>39.493151</td>\n",
       "      <td>1</td>\n",
       "      <td>1982-12-22</td>\n",
       "    </tr>\n",
       "    <tr>\n",
       "      <th>64</th>\n",
       "      <td>Sí</td>\n",
       "      <td>España</td>\n",
       "      <td>Seguridad y Prot. - Seguridad Física</td>\n",
       "      <td>VIZCAYA</td>\n",
       "      <td>vigilanciayseguridad</td>\n",
       "      <td>2019</td>\n",
       "      <td>156</td>\n",
       "      <td>Jul</td>\n",
       "      <td>Sí</td>\n",
       "      <td>Fijo</td>\n",
       "      <td>SEGURIDAD Y PREVENCION DEL FRAUDE</td>\n",
       "      <td>Vigilancia y Seguridad</td>\n",
       "      <td>F</td>\n",
       "      <td>NaN</td>\n",
       "      <td>37.5</td>\n",
       "      <td>ADMINISTRATIVO</td>\n",
       "      <td>ESPAÑOLA</td>\n",
       "      <td>Activo</td>\n",
       "      <td>32.8</td>\n",
       "      <td>1963-06-14</td>\n",
       "      <td>EMP</td>\n",
       "      <td>No</td>\n",
       "      <td>1988-08-16</td>\n",
       "      <td>Persona 1716916</td>\n",
       "      <td>12351</td>\n",
       "      <td>33.838356</td>\n",
       "      <td>21546</td>\n",
       "      <td>33.838356</td>\n",
       "      <td>1</td>\n",
       "      <td>1988-08-16</td>\n",
       "    </tr>\n",
       "    <tr>\n",
       "      <th>82</th>\n",
       "      <td>Sí</td>\n",
       "      <td>España</td>\n",
       "      <td>Seguridad y Prot. - Seguridad Física</td>\n",
       "      <td>A CORUÑA</td>\n",
       "      <td>vigilanciayseguridad</td>\n",
       "      <td>2019</td>\n",
       "      <td>156</td>\n",
       "      <td>Jul</td>\n",
       "      <td>Sí</td>\n",
       "      <td>Fijo</td>\n",
       "      <td>SEGURIDAD Y PREVENCION DEL FRAUDE</td>\n",
       "      <td>Vigilancia y Seguridad</td>\n",
       "      <td>M</td>\n",
       "      <td>NaN</td>\n",
       "      <td>37.5</td>\n",
       "      <td>ADMINISTRATIVO</td>\n",
       "      <td>ESPAÑOLA</td>\n",
       "      <td>Activo</td>\n",
       "      <td>34.5</td>\n",
       "      <td>1962-06-06</td>\n",
       "      <td>EMP</td>\n",
       "      <td>No</td>\n",
       "      <td>1989-05-16</td>\n",
       "      <td>Persona 1716934</td>\n",
       "      <td>12078</td>\n",
       "      <td>33.090411</td>\n",
       "      <td>21919</td>\n",
       "      <td>33.090411</td>\n",
       "      <td>1</td>\n",
       "      <td>1989-05-16</td>\n",
       "    </tr>\n",
       "    <tr>\n",
       "      <th>...</th>\n",
       "      <td>...</td>\n",
       "      <td>...</td>\n",
       "      <td>...</td>\n",
       "      <td>...</td>\n",
       "      <td>...</td>\n",
       "      <td>...</td>\n",
       "      <td>...</td>\n",
       "      <td>...</td>\n",
       "      <td>...</td>\n",
       "      <td>...</td>\n",
       "      <td>...</td>\n",
       "      <td>...</td>\n",
       "      <td>...</td>\n",
       "      <td>...</td>\n",
       "      <td>...</td>\n",
       "      <td>...</td>\n",
       "      <td>...</td>\n",
       "      <td>...</td>\n",
       "      <td>...</td>\n",
       "      <td>...</td>\n",
       "      <td>...</td>\n",
       "      <td>...</td>\n",
       "      <td>...</td>\n",
       "      <td>...</td>\n",
       "      <td>...</td>\n",
       "      <td>...</td>\n",
       "      <td>...</td>\n",
       "      <td>...</td>\n",
       "      <td>...</td>\n",
       "      <td>...</td>\n",
       "    </tr>\n",
       "    <tr>\n",
       "      <th>48424</th>\n",
       "      <td>No</td>\n",
       "      <td>Brasil</td>\n",
       "      <td>NaN</td>\n",
       "      <td>São Paulo</td>\n",
       "      <td>talentoydesarrollo</td>\n",
       "      <td>2019</td>\n",
       "      <td>185</td>\n",
       "      <td>Jul</td>\n",
       "      <td>No</td>\n",
       "      <td>Fijo</td>\n",
       "      <td>BRA - VP Pessoas</td>\n",
       "      <td>Talento y Desarrollo</td>\n",
       "      <td>F</td>\n",
       "      <td>BRA_Coord Desenvolvimento Organizacional</td>\n",
       "      <td>44.0</td>\n",
       "      <td>Estagiario</td>\n",
       "      <td>NaN</td>\n",
       "      <td>Activo</td>\n",
       "      <td>36.0</td>\n",
       "      <td>1992-06-07</td>\n",
       "      <td>PRA</td>\n",
       "      <td>No</td>\n",
       "      <td>2019-04-02</td>\n",
       "      <td>Persona 1435526</td>\n",
       "      <td>1165</td>\n",
       "      <td>3.191781</td>\n",
       "      <td>10960</td>\n",
       "      <td>3.191781</td>\n",
       "      <td>1</td>\n",
       "      <td>2019-04-02</td>\n",
       "    </tr>\n",
       "    <tr>\n",
       "      <th>48425</th>\n",
       "      <td>No</td>\n",
       "      <td>Brasil</td>\n",
       "      <td>NaN</td>\n",
       "      <td>São Paulo</td>\n",
       "      <td>asesoríalegalysoportejurídico</td>\n",
       "      <td>2019</td>\n",
       "      <td>185</td>\n",
       "      <td>Jul</td>\n",
       "      <td>No</td>\n",
       "      <td>Fijo</td>\n",
       "      <td>BRA - VP Juridico</td>\n",
       "      <td>Asesoría legal y soporte jurídico</td>\n",
       "      <td>M</td>\n",
       "      <td>BRA_Ger Sr Juridica de Produtos e Serv</td>\n",
       "      <td>44.0</td>\n",
       "      <td>ESTAGIARIO</td>\n",
       "      <td>NaN</td>\n",
       "      <td>Activo</td>\n",
       "      <td>36.0</td>\n",
       "      <td>1994-12-13</td>\n",
       "      <td>PRA</td>\n",
       "      <td>No</td>\n",
       "      <td>2017-10-11</td>\n",
       "      <td>Persona 1435527</td>\n",
       "      <td>1703</td>\n",
       "      <td>4.665753</td>\n",
       "      <td>10041</td>\n",
       "      <td>4.665753</td>\n",
       "      <td>1</td>\n",
       "      <td>2017-10-11</td>\n",
       "    </tr>\n",
       "    <tr>\n",
       "      <th>48426</th>\n",
       "      <td>No</td>\n",
       "      <td>Brasil</td>\n",
       "      <td>NaN</td>\n",
       "      <td>São Paulo</td>\n",
       "      <td>producciónit</td>\n",
       "      <td>2019</td>\n",
       "      <td>185</td>\n",
       "      <td>Jul</td>\n",
       "      <td>No</td>\n",
       "      <td>Fijo</td>\n",
       "      <td>BRA - VP Tecnologia Informacao</td>\n",
       "      <td>Producción IT</td>\n",
       "      <td>M</td>\n",
       "      <td>BRA_GER FINANCAS</td>\n",
       "      <td>44.0</td>\n",
       "      <td>ESTAGIARIO</td>\n",
       "      <td>NaN</td>\n",
       "      <td>Activo</td>\n",
       "      <td>36.0</td>\n",
       "      <td>1996-06-04</td>\n",
       "      <td>PRA</td>\n",
       "      <td>No</td>\n",
       "      <td>2017-10-11</td>\n",
       "      <td>Persona 1435528</td>\n",
       "      <td>1703</td>\n",
       "      <td>4.665753</td>\n",
       "      <td>9502</td>\n",
       "      <td>4.665753</td>\n",
       "      <td>1</td>\n",
       "      <td>2017-10-11</td>\n",
       "    </tr>\n",
       "    <tr>\n",
       "      <th>48427</th>\n",
       "      <td>No</td>\n",
       "      <td>Brasil</td>\n",
       "      <td>NaN</td>\n",
       "      <td>Sao Paulo</td>\n",
       "      <td>aplicaciones/desarrollo</td>\n",
       "      <td>2019</td>\n",
       "      <td>185</td>\n",
       "      <td>Jul</td>\n",
       "      <td>No</td>\n",
       "      <td>Fijo</td>\n",
       "      <td>BRA - VP Engenharia e Servicos ao Cliente</td>\n",
       "      <td>Aplicaciones/Desarrollo</td>\n",
       "      <td>M</td>\n",
       "      <td>BRA_Ger Servicos de Dados</td>\n",
       "      <td>44.0</td>\n",
       "      <td>Estagiario</td>\n",
       "      <td>NaN</td>\n",
       "      <td>Activo</td>\n",
       "      <td>36.0</td>\n",
       "      <td>1995-03-20</td>\n",
       "      <td>PRA</td>\n",
       "      <td>No</td>\n",
       "      <td>2017-10-11</td>\n",
       "      <td>Persona 1435529</td>\n",
       "      <td>1703</td>\n",
       "      <td>4.665753</td>\n",
       "      <td>9944</td>\n",
       "      <td>4.665753</td>\n",
       "      <td>1</td>\n",
       "      <td>2017-10-11</td>\n",
       "    </tr>\n",
       "    <tr>\n",
       "      <th>48428</th>\n",
       "      <td>No</td>\n",
       "      <td>Brasil</td>\n",
       "      <td>NaN</td>\n",
       "      <td>São Paulo</td>\n",
       "      <td>canaltelefónico-atención</td>\n",
       "      <td>2019</td>\n",
       "      <td>185</td>\n",
       "      <td>Jul</td>\n",
       "      <td>No</td>\n",
       "      <td>Fijo</td>\n",
       "      <td>BRA - VP Atendimento ao Cliente</td>\n",
       "      <td>Canal telefónico - Atención</td>\n",
       "      <td>F</td>\n",
       "      <td>BRA_Ger Infra e Acessos</td>\n",
       "      <td>44.0</td>\n",
       "      <td>ESTAGIARIO</td>\n",
       "      <td>NaN</td>\n",
       "      <td>Activo</td>\n",
       "      <td>36.0</td>\n",
       "      <td>1997-09-13</td>\n",
       "      <td>PRA</td>\n",
       "      <td>No</td>\n",
       "      <td>2017-10-11</td>\n",
       "      <td>Persona 1435530</td>\n",
       "      <td>1703</td>\n",
       "      <td>4.665753</td>\n",
       "      <td>9036</td>\n",
       "      <td>4.665753</td>\n",
       "      <td>1</td>\n",
       "      <td>2017-10-11</td>\n",
       "    </tr>\n",
       "  </tbody>\n",
       "</table>\n",
       "<p>23626 rows × 30 columns</p>\n",
       "</div>"
      ],
      "text/plain": [
       "      Convenio Aplicable Localización País  \\\n",
       "52                    Sí            España   \n",
       "59                    Sí            España   \n",
       "62                    Sí            España   \n",
       "64                    Sí            España   \n",
       "82                    Sí            España   \n",
       "...                  ...               ...   \n",
       "48424                 No            Brasil   \n",
       "48425                 No            Brasil   \n",
       "48426                 No            Brasil   \n",
       "48427                 No            Brasil   \n",
       "48428                 No            Brasil   \n",
       "\n",
       "                             Área Funcional Localización Ciudad  \\\n",
       "52     Seguridad y Prot. - Seguridad Física           BARCELONA   \n",
       "59     Seguridad y Prot. - Seguridad Física             SEVILLA   \n",
       "62     Seguridad y Prot. - Seguridad Física             SEVILLA   \n",
       "64     Seguridad y Prot. - Seguridad Física             VIZCAYA   \n",
       "82     Seguridad y Prot. - Seguridad Física            A CORUÑA   \n",
       "...                                     ...                 ...   \n",
       "48424                                   NaN           São Paulo   \n",
       "48425                                   NaN           São Paulo   \n",
       "48426                                   NaN           São Paulo   \n",
       "48427                                   NaN           Sao Paulo   \n",
       "48428                                   NaN           São Paulo   \n",
       "\n",
       "                   Subactividad_desc   Año  COD. UNIDAD DE NEGOCIO  Mes  \\\n",
       "52              vigilanciayseguridad  2019                     156  Jul   \n",
       "59              vigilanciayseguridad  2019                     156  Jul   \n",
       "62              vigilanciayseguridad  2019                     156  Jul   \n",
       "64              vigilanciayseguridad  2019                     156  Jul   \n",
       "82              vigilanciayseguridad  2019                     156  Jul   \n",
       "...                              ...   ...                     ...  ...   \n",
       "48424             talentoydesarrollo  2019                     185  Jul   \n",
       "48425  asesoríalegalysoportejurídico  2019                     185  Jul   \n",
       "48426                   producciónit  2019                     185  Jul   \n",
       "48427        aplicaciones/desarrollo  2019                     185  Jul   \n",
       "48428       canaltelefónico-atención  2019                     185  Jul   \n",
       "\n",
       "      Reducción de Jormada Tipo de contrato  \\\n",
       "52                      Sí             Fijo   \n",
       "59                      Sí             Fijo   \n",
       "62                      Sí             Fijo   \n",
       "64                      Sí             Fijo   \n",
       "82                      Sí             Fijo   \n",
       "...                    ...              ...   \n",
       "48424                   No             Fijo   \n",
       "48425                   No             Fijo   \n",
       "48426                   No             Fijo   \n",
       "48427                   No             Fijo   \n",
       "48428                   No             Fijo   \n",
       "\n",
       "                                        División  \\\n",
       "52             SEGURIDAD Y PREVENCION DEL FRAUDE   \n",
       "59             SEGURIDAD Y PREVENCION DEL FRAUDE   \n",
       "62             SEGURIDAD Y PREVENCION DEL FRAUDE   \n",
       "64             SEGURIDAD Y PREVENCION DEL FRAUDE   \n",
       "82             SEGURIDAD Y PREVENCION DEL FRAUDE   \n",
       "...                                          ...   \n",
       "48424                           BRA - VP Pessoas   \n",
       "48425                          BRA - VP Juridico   \n",
       "48426             BRA - VP Tecnologia Informacao   \n",
       "48427  BRA - VP Engenharia e Servicos ao Cliente   \n",
       "48428            BRA - VP Atendimento ao Cliente   \n",
       "\n",
       "                            Subactividad Género  \\\n",
       "52                Vigilancia y Seguridad      M   \n",
       "59                Vigilancia y Seguridad      M   \n",
       "62                Vigilancia y Seguridad      M   \n",
       "64                Vigilancia y Seguridad      F   \n",
       "82                Vigilancia y Seguridad      M   \n",
       "...                                  ...    ...   \n",
       "48424               Talento y Desarrollo      F   \n",
       "48425  Asesoría legal y soporte jurídico      M   \n",
       "48426                      Producción IT      M   \n",
       "48427            Aplicaciones/Desarrollo      M   \n",
       "48428        Canal telefónico - Atención      F   \n",
       "\n",
       "                                   Departamento  \\\n",
       "52                                          NaN   \n",
       "59                                          NaN   \n",
       "62                                          NaN   \n",
       "64                                          NaN   \n",
       "82                                          NaN   \n",
       "...                                         ...   \n",
       "48424  BRA_Coord Desenvolvimento Organizacional   \n",
       "48425    BRA_Ger Sr Juridica de Produtos e Serv   \n",
       "48426                          BRA_GER FINANCAS   \n",
       "48427                 BRA_Ger Servicos de Dados   \n",
       "48428                   BRA_Ger Infra e Acessos   \n",
       "\n",
       "       HORAS TEÓRICAS SEMANALES POR UNIDAD DE NEGOCIO Nombre del puesto  \\\n",
       "52                                               37.5    ADMINISTRATIVO   \n",
       "59                                               37.5    ADMINISTRATIVO   \n",
       "62                                               37.5    ADMINISTRATIVO   \n",
       "64                                               37.5    ADMINISTRATIVO   \n",
       "82                                               37.5    ADMINISTRATIVO   \n",
       "...                                               ...               ...   \n",
       "48424                                            44.0        Estagiario   \n",
       "48425                                            44.0        ESTAGIARIO   \n",
       "48426                                            44.0        ESTAGIARIO   \n",
       "48427                                            44.0        Estagiario   \n",
       "48428                                            44.0        ESTAGIARIO   \n",
       "\n",
       "      Nacionalidad Estado de empleado  \\\n",
       "52        ESPAÑOLA             Activo   \n",
       "59        ESPAÑOLA             Activo   \n",
       "62        ESPAÑOLA             Activo   \n",
       "64        ESPAÑOLA             Activo   \n",
       "82        ESPAÑOLA             Activo   \n",
       "...            ...                ...   \n",
       "48424          NaN             Activo   \n",
       "48425          NaN             Activo   \n",
       "48426          NaN             Activo   \n",
       "48427          NaN             Activo   \n",
       "48428          NaN             Activo   \n",
       "\n",
       "       PROMEDIO DE HORAS  SEMANALES TRABAJADAS EN EL MES Fecha de Nacimiento  \\\n",
       "52                                                  32.8          1969-01-14   \n",
       "59                                                  32.8          1951-12-19   \n",
       "62                                                  32.8          1963-02-04   \n",
       "64                                                  32.8          1963-06-14   \n",
       "82                                                  34.5          1962-06-06   \n",
       "...                                                  ...                 ...   \n",
       "48424                                               36.0          1992-06-07   \n",
       "48425                                               36.0          1994-12-13   \n",
       "48426                                               36.0          1996-06-04   \n",
       "48427                                               36.0          1995-03-20   \n",
       "48428                                               36.0          1997-09-13   \n",
       "\n",
       "      Clase de empleado Discapacidad Fecha de Alta       ID persona  \\\n",
       "52                  EMP           No    1988-06-01  Persona 1716904   \n",
       "59                  EMP           No    1982-06-21  Persona 1716911   \n",
       "62                  EMP           No    1982-12-22  Persona 1716914   \n",
       "64                  EMP           No    1988-08-16  Persona 1716916   \n",
       "82                  EMP           No    1989-05-16  Persona 1716934   \n",
       "...                 ...          ...           ...              ...   \n",
       "48424               PRA           No    2019-04-02  Persona 1435526   \n",
       "48425               PRA           No    2017-10-11  Persona 1435527   \n",
       "48426               PRA           No    2017-10-11  Persona 1435528   \n",
       "48427               PRA           No    2017-10-11  Persona 1435529   \n",
       "48428               PRA           No    2017-10-11  Persona 1435530   \n",
       "\n",
       "       antiguedad (días)  antiguedad (años)  edad (días)  edad (años)  numero  \\\n",
       "52                 12427          34.046575        19505    34.046575       1   \n",
       "59                 14599          39.997260        25741    39.997260       1   \n",
       "62                 14415          39.493151        21676    39.493151       1   \n",
       "64                 12351          33.838356        21546    33.838356       1   \n",
       "82                 12078          33.090411        21919    33.090411       1   \n",
       "...                  ...                ...          ...          ...     ...   \n",
       "48424               1165           3.191781        10960     3.191781       1   \n",
       "48425               1703           4.665753        10041     4.665753       1   \n",
       "48426               1703           4.665753         9502     4.665753       1   \n",
       "48427               1703           4.665753         9944     4.665753       1   \n",
       "48428               1703           4.665753         9036     4.665753       1   \n",
       "\n",
       "          Fecha2  \n",
       "52    1988-06-01  \n",
       "59    1982-06-21  \n",
       "62    1982-12-22  \n",
       "64    1988-08-16  \n",
       "82    1989-05-16  \n",
       "...          ...  \n",
       "48424 2019-04-02  \n",
       "48425 2017-10-11  \n",
       "48426 2017-10-11  \n",
       "48427 2017-10-11  \n",
       "48428 2017-10-11  \n",
       "\n",
       "[23626 rows x 30 columns]"
      ]
     },
     "execution_count": 227,
     "metadata": {},
     "output_type": "execute_result"
    }
   ],
   "source": [
    "plan19[plan19['HORAS TEÓRICAS SEMANALES POR UNIDAD DE NEGOCIO']>plan19['PROMEDIO DE HORAS  SEMANALES TRABAJADAS EN EL MES']]"
   ]
  },
  {
   "cell_type": "code",
   "execution_count": 228,
   "id": "d16f0755",
   "metadata": {},
   "outputs": [],
   "source": [
    "infra_trab = plan19[plan19['HORAS TEÓRICAS SEMANALES POR UNIDAD DE NEGOCIO']>plan19['PROMEDIO DE HORAS  SEMANALES TRABAJADAS EN EL MES']]"
   ]
  },
  {
   "cell_type": "code",
   "execution_count": 402,
   "id": "0aea15f6",
   "metadata": {},
   "outputs": [
    {
     "data": {
      "text/plain": [
       "23626"
      ]
     },
     "execution_count": 402,
     "metadata": {},
     "output_type": "execute_result"
    }
   ],
   "source": [
    "len(infra_trab)"
   ]
  },
  {
   "cell_type": "code",
   "execution_count": 403,
   "id": "431b92c9",
   "metadata": {},
   "outputs": [
    {
     "data": {
      "text/plain": [
       "48431"
      ]
     },
     "execution_count": 403,
     "metadata": {},
     "output_type": "execute_result"
    }
   ],
   "source": [
    "len(plan19)"
   ]
  },
  {
   "cell_type": "markdown",
   "id": "05293e99",
   "metadata": {},
   "source": [
    "Divisiones con más trabajadores haciendo menos horas de las teóricas"
   ]
  },
  {
   "cell_type": "code",
   "execution_count": 230,
   "id": "d1355072",
   "metadata": {},
   "outputs": [
    {
     "data": {
      "text/plain": [
       "BRA - VP Engenharia e Servicos ao Cliente    7151\n",
       "BRA - VP Atendimento ao Cliente              5715\n",
       "BRA - VP B2C                                 4144\n",
       "BRA - VP B2B e Atacado                       2268\n",
       "BRA - VP Tecnologia Informacao               1529\n",
       "BRA - Chief Financial Officer                1059\n",
       "BRA - VP Pessoas                              496\n",
       "BRA - VP Dados e Inteligencia Artificial      224\n",
       "BRA - VP Juridico                             203\n",
       "BRA - VP Transformacao e Qualidade            199\n",
       "OPERACIONES, RED Y TI                         176\n",
       "CONSEJERA DELEGADA COO                        148\n",
       "BRA - VP Assuntos Regulatórios                109\n",
       "BRA - Presidencia                              66\n",
       "FINANZAS Y CONTROL DE GESTION                  33\n",
       "TERRITORIAL MEDITERRANEO                       21\n",
       "TERRITORIAL SUR                                21\n",
       "TERRITORIAL CENTRO Y SECTORES GGCC             16\n",
       "RECURSOS HUMANOS                               15\n",
       "TERRITORIAL NORTE                              13\n",
       "SECRETARIO GENERAL Y REGULACION                 8\n",
       "SEGURIDAD Y PREVENCION DEL FRAUDE               6\n",
       "CALIDAD Y TRANSFORMACION                        4\n",
       "ESTRATEGIA                                      2\n",
       "Name: División, dtype: int64"
      ]
     },
     "execution_count": 230,
     "metadata": {},
     "output_type": "execute_result"
    }
   ],
   "source": [
    "infra_trab['División'].value_counts()"
   ]
  },
  {
   "cell_type": "markdown",
   "id": "01c8751c",
   "metadata": {},
   "source": [
    "Evolución de empleados (serie temporal)"
   ]
  },
  {
   "cell_type": "code",
   "execution_count": 264,
   "id": "3084caa6",
   "metadata": {},
   "outputs": [],
   "source": [
    "plan19['Fecha2']=plan19['Fecha de Alta']\n",
    "plan19['numero']=1"
   ]
  },
  {
   "cell_type": "code",
   "execution_count": 265,
   "id": "72be04d2",
   "metadata": {},
   "outputs": [
    {
     "data": {
      "text/html": [
       "<div>\n",
       "<style scoped>\n",
       "    .dataframe tbody tr th:only-of-type {\n",
       "        vertical-align: middle;\n",
       "    }\n",
       "\n",
       "    .dataframe tbody tr th {\n",
       "        vertical-align: top;\n",
       "    }\n",
       "\n",
       "    .dataframe thead th {\n",
       "        text-align: right;\n",
       "    }\n",
       "</style>\n",
       "<table border=\"1\" class=\"dataframe\">\n",
       "  <thead>\n",
       "    <tr style=\"text-align: right;\">\n",
       "      <th></th>\n",
       "      <th>numero</th>\n",
       "    </tr>\n",
       "    <tr>\n",
       "      <th>Fecha2</th>\n",
       "      <th></th>\n",
       "    </tr>\n",
       "  </thead>\n",
       "  <tbody>\n",
       "    <tr>\n",
       "      <th>1965-06-06</th>\n",
       "      <td>1</td>\n",
       "    </tr>\n",
       "    <tr>\n",
       "      <th>1965-06-13</th>\n",
       "      <td>0</td>\n",
       "    </tr>\n",
       "    <tr>\n",
       "      <th>1965-06-20</th>\n",
       "      <td>0</td>\n",
       "    </tr>\n",
       "    <tr>\n",
       "      <th>1965-06-27</th>\n",
       "      <td>0</td>\n",
       "    </tr>\n",
       "    <tr>\n",
       "      <th>1965-07-04</th>\n",
       "      <td>0</td>\n",
       "    </tr>\n",
       "    <tr>\n",
       "      <th>...</th>\n",
       "      <td>...</td>\n",
       "    </tr>\n",
       "    <tr>\n",
       "      <th>2019-06-23</th>\n",
       "      <td>0</td>\n",
       "    </tr>\n",
       "    <tr>\n",
       "      <th>2019-06-30</th>\n",
       "      <td>0</td>\n",
       "    </tr>\n",
       "    <tr>\n",
       "      <th>2019-07-07</th>\n",
       "      <td>223</td>\n",
       "    </tr>\n",
       "    <tr>\n",
       "      <th>2019-07-14</th>\n",
       "      <td>107</td>\n",
       "    </tr>\n",
       "    <tr>\n",
       "      <th>2019-07-21</th>\n",
       "      <td>314</td>\n",
       "    </tr>\n",
       "  </tbody>\n",
       "</table>\n",
       "<p>2825 rows × 1 columns</p>\n",
       "</div>"
      ],
      "text/plain": [
       "            numero\n",
       "Fecha2            \n",
       "1965-06-06       1\n",
       "1965-06-13       0\n",
       "1965-06-20       0\n",
       "1965-06-27       0\n",
       "1965-07-04       0\n",
       "...            ...\n",
       "2019-06-23       0\n",
       "2019-06-30       0\n",
       "2019-07-07     223\n",
       "2019-07-14     107\n",
       "2019-07-21     314\n",
       "\n",
       "[2825 rows x 1 columns]"
      ]
     },
     "execution_count": 265,
     "metadata": {},
     "output_type": "execute_result"
    }
   ],
   "source": [
    "dftotal2=plan19.resample('W', on='Fecha2').sum().reset_index().sort_values(by='Fecha2')[['Fecha2','numero']]\n",
    "\n",
    "dftotal2.index = dftotal2.Fecha2\n",
    "dftotal2.drop('Fecha2',axis=1,inplace=True)\n",
    "serie = dftotal2.copy()\n",
    "serie\n"
   ]
  },
  {
   "cell_type": "code",
   "execution_count": 266,
   "id": "4dbc6422",
   "metadata": {},
   "outputs": [
    {
     "data": {
      "text/plain": [
       "<AxesSubplot:xlabel='Fecha2'>"
      ]
     },
     "execution_count": 266,
     "metadata": {},
     "output_type": "execute_result"
    },
    {
     "data": {
      "image/png": "[encoded data removed]",
      "text/plain": [
       "<Figure size 1296x576 with 1 Axes>"
      ]
     },
     "metadata": {
      "needs_background": "light"
     },
     "output_type": "display_data"
    }
   ],
   "source": [
    "serie.plot()"
   ]
  },
  {
   "cell_type": "code",
   "execution_count": 268,
   "id": "1a41f10d",
   "metadata": {},
   "outputs": [
    {
     "data": {
      "image/png": "[encoded data removed]",
      "text/plain": [
       "<Figure size 1296x576 with 4 Axes>"
      ]
     },
     "metadata": {
      "needs_background": "light"
     },
     "output_type": "display_data"
    }
   ],
   "source": [
    "decomposition = sm.tsa.seasonal_decompose(serie['numero'], model='additive')\n",
    "fig = decomposition.plot()\n",
    "plt.show()"
   ]
  },
  {
   "cell_type": "markdown",
   "id": "61fdd11f",
   "metadata": {},
   "source": [
    "## Analisis altas del mes de Julio"
   ]
  },
  {
   "cell_type": "markdown",
   "id": "dfc19975",
   "metadata": {},
   "source": [
    "Departamentos con más altas"
   ]
  },
  {
   "cell_type": "code",
   "execution_count": 392,
   "id": "78502b2c",
   "metadata": {},
   "outputs": [
    {
     "data": {
      "text/plain": [
       "Call Center técnico                          97\n",
       "Canal telefónico - Atención                  35\n",
       "Supervisión de red                           32\n",
       "Gestión de la morosidad e Impagos            19\n",
       "Fuerza de ventas directa                     17\n",
       "Operación de red                             14\n",
       "Producción IT                                12\n",
       "Relaciones Laborales y Gestión de Aliados    11\n",
       "Planificación y controlling                  11\n",
       "Selección                                    10\n",
       "Name: Subactividad, dtype: int64"
      ]
     },
     "execution_count": 392,
     "metadata": {},
     "output_type": "execute_result"
    }
   ],
   "source": [
    "df_bajas['Subactividad'].value_counts()[:10]"
   ]
  },
  {
   "cell_type": "code",
   "execution_count": 303,
   "id": "5a10475c",
   "metadata": {},
   "outputs": [
    {
     "data": {
      "text/plain": [
       "Fuerza de ventas directa                                   165\n",
       "Canal telefónico - Atención                                153\n",
       "Producción IT                                               98\n",
       "Call Center técnico                                         32\n",
       "Instalación y mantenimiento Red de Acceso (Red Externa)     29\n",
       "Backoffice                                                  13\n",
       "Mantenimiento Red Troncal (Red Interna)                     11\n",
       "Soporte ventas                                               7\n",
       "Operaciones Red para empresas                                7\n",
       "Desarrollo de Proyectos Estratégicos y Transformación        7\n",
       "Name: Subactividad, dtype: int64"
      ]
     },
     "execution_count": 303,
     "metadata": {},
     "output_type": "execute_result"
    }
   ],
   "source": [
    "df_altas['Subactividad'].value_counts()[:10]"
   ]
  },
  {
   "cell_type": "markdown",
   "id": "4218daa4",
   "metadata": {},
   "source": [
    "Incorporaciones por países"
   ]
  },
  {
   "cell_type": "code",
   "execution_count": 304,
   "id": "1a14dc23",
   "metadata": {},
   "outputs": [
    {
     "data": {
      "text/plain": [
       "185    578\n",
       "156      5\n",
       "Name: COD. UNIDAD DE NEGOCIO, dtype: int64"
      ]
     },
     "execution_count": 304,
     "metadata": {},
     "output_type": "execute_result"
    }
   ],
   "source": [
    "df_altas['COD. UNIDAD DE NEGOCIO'].value_counts()\n",
    "#578 altas en brasil\n",
    "#156 en españa"
   ]
  },
  {
   "cell_type": "markdown",
   "id": "6935f2fb",
   "metadata": {},
   "source": [
    "Tipo de altas"
   ]
  },
  {
   "cell_type": "code",
   "execution_count": 305,
   "id": "11d7d912",
   "metadata": {},
   "outputs": [
    {
     "data": {
      "text/plain": [
       "a) Procedentes de empresas AJENAS AL GRUPO    578\n",
       "c.2) Reincorporaciones                          5\n",
       "Name: Tipo alta global, dtype: int64"
      ]
     },
     "execution_count": 305,
     "metadata": {},
     "output_type": "execute_result"
    }
   ],
   "source": [
    "df_altas['Tipo alta global'].value_counts()"
   ]
  },
  {
   "cell_type": "markdown",
   "id": "449d0443",
   "metadata": {},
   "source": [
    "Edades de las altas"
   ]
  },
  {
   "cell_type": "code",
   "execution_count": 306,
   "id": "1c4742c1",
   "metadata": {},
   "outputs": [
    {
     "data": {
      "text/plain": [
       "count    583.000000\n",
       "mean      23.870274\n",
       "std       11.720407\n",
       "min        2.906849\n",
       "25%       10.895890\n",
       "50%       30.504110\n",
       "75%       33.186301\n",
       "max       52.473973\n",
       "Name: edad (años), dtype: float64"
      ]
     },
     "execution_count": 306,
     "metadata": {},
     "output_type": "execute_result"
    }
   ],
   "source": [
    "df_altas['edad (años)'].describe()"
   ]
  },
  {
   "cell_type": "code",
   "execution_count": 339,
   "id": "e848ae9a",
   "metadata": {},
   "outputs": [],
   "source": [
    "plan19.to_excel('excel_datastudio2.xlsx') "
   ]
  },
  {
   "cell_type": "code",
   "execution_count": 323,
   "id": "57d4f16b",
   "metadata": {},
   "outputs": [
    {
     "data": {
      "text/plain": [
       "42.814088904338824"
      ]
     },
     "execution_count": 323,
     "metadata": {},
     "output_type": "execute_result"
    }
   ],
   "source": [
    "plan19['edad (años)'].mean()"
   ]
  },
  {
   "cell_type": "code",
   "execution_count": 324,
   "id": "189fa641",
   "metadata": {},
   "outputs": [
    {
     "data": {
      "text/plain": [
       "14.692335119899502"
      ]
     },
     "execution_count": 324,
     "metadata": {},
     "output_type": "execute_result"
    }
   ],
   "source": [
    "plan19['antiguedad (años)'].mean()"
   ]
  },
  {
   "cell_type": "code",
   "execution_count": 407,
   "id": "1d460f0b",
   "metadata": {},
   "outputs": [
    {
     "data": {
      "text/plain": [
       "Brasil    354\n",
       "España      6\n",
       "Name: Unidad de Negocio, dtype: int64"
      ]
     },
     "execution_count": 407,
     "metadata": {},
     "output_type": "execute_result"
    }
   ],
   "source": [
    "df_bajas['Unidad de Negocio'].value_counts()"
   ]
  },
  {
   "cell_type": "code",
   "execution_count": 409,
   "id": "a867ef9f",
   "metadata": {},
   "outputs": [
    {
     "data": {
      "text/html": [
       "<div>\n",
       "<style scoped>\n",
       "    .dataframe tbody tr th:only-of-type {\n",
       "        vertical-align: middle;\n",
       "    }\n",
       "\n",
       "    .dataframe tbody tr th {\n",
       "        vertical-align: top;\n",
       "    }\n",
       "\n",
       "    .dataframe thead th {\n",
       "        text-align: right;\n",
       "    }\n",
       "</style>\n",
       "<table border=\"1\" class=\"dataframe\">\n",
       "  <thead>\n",
       "    <tr style=\"text-align: right;\">\n",
       "      <th></th>\n",
       "      <th>Subactividad_desc</th>\n",
       "      <th>Subactividad</th>\n",
       "      <th>Genero</th>\n",
       "      <th>Fecha nacimiento</th>\n",
       "      <th>Clase empleado</th>\n",
       "      <th>Nombre del puesto</th>\n",
       "      <th>COD. UNIDAD DE NEGOCIO</th>\n",
       "      <th>Fecha alta</th>\n",
       "      <th>Tipo alta local</th>\n",
       "      <th>Tipo alta global</th>\n",
       "      <th>ID Persona</th>\n",
       "      <th>edad (días)</th>\n",
       "      <th>edad (años)</th>\n",
       "    </tr>\n",
       "  </thead>\n",
       "  <tbody>\n",
       "    <tr>\n",
       "      <th>0</th>\n",
       "      <td>tecnologíayplanificación</td>\n",
       "      <td>Tecnología y Planificación</td>\n",
       "      <td>M</td>\n",
       "      <td>1966-06-27</td>\n",
       "      <td>EMP</td>\n",
       "      <td>OPERADOR DE COMUNICACIONES</td>\n",
       "      <td>156</td>\n",
       "      <td>2019-08-28</td>\n",
       "      <td>c.2) Reincorporaciones</td>\n",
       "      <td>c.2) Reincorporaciones</td>\n",
       "      <td>Persona 19887</td>\n",
       "      <td>20438</td>\n",
       "      <td>55.994521</td>\n",
       "    </tr>\n",
       "    <tr>\n",
       "      <th>1</th>\n",
       "      <td>tecnologíayplanificación</td>\n",
       "      <td>Tecnología y Planificación</td>\n",
       "      <td>M</td>\n",
       "      <td>1970-12-20</td>\n",
       "      <td>EMP</td>\n",
       "      <td>ASESOR BASE</td>\n",
       "      <td>156</td>\n",
       "      <td>2019-08-09</td>\n",
       "      <td>c.2) Reincorporaciones</td>\n",
       "      <td>c.2) Reincorporaciones</td>\n",
       "      <td>Persona 19888</td>\n",
       "      <td>18801</td>\n",
       "      <td>51.509589</td>\n",
       "    </tr>\n",
       "    <tr>\n",
       "      <th>2</th>\n",
       "      <td>gestionydireccion</td>\n",
       "      <td>Gestión y Direccion</td>\n",
       "      <td>M</td>\n",
       "      <td>1971-10-09</td>\n",
       "      <td>EMP</td>\n",
       "      <td>OPERADOR DE COMUNICACIONES</td>\n",
       "      <td>156</td>\n",
       "      <td>2019-08-04</td>\n",
       "      <td>c.2) Reincorporaciones</td>\n",
       "      <td>c.2) Reincorporaciones</td>\n",
       "      <td>Persona 19890</td>\n",
       "      <td>18508</td>\n",
       "      <td>50.706849</td>\n",
       "    </tr>\n",
       "    <tr>\n",
       "      <th>3</th>\n",
       "      <td>gestionydireccion</td>\n",
       "      <td>Gestión y Direccion</td>\n",
       "      <td>M</td>\n",
       "      <td>1971-01-03</td>\n",
       "      <td>EMP</td>\n",
       "      <td>OPERADOR DE COMUNICACIONES</td>\n",
       "      <td>156</td>\n",
       "      <td>2019-08-13</td>\n",
       "      <td>c.2) Reincorporaciones</td>\n",
       "      <td>c.2) Reincorporaciones</td>\n",
       "      <td>Persona 19891</td>\n",
       "      <td>18787</td>\n",
       "      <td>51.471233</td>\n",
       "    </tr>\n",
       "    <tr>\n",
       "      <th>4</th>\n",
       "      <td>vigilanciayseguridad</td>\n",
       "      <td>Vigilancia y Seguridad</td>\n",
       "      <td>F</td>\n",
       "      <td>1962-11-26</td>\n",
       "      <td>EMP</td>\n",
       "      <td>ADMINISTRATIVO</td>\n",
       "      <td>156</td>\n",
       "      <td>2019-08-08</td>\n",
       "      <td>c.2) Reincorporaciones</td>\n",
       "      <td>c.2) Reincorporaciones</td>\n",
       "      <td>Persona 19892</td>\n",
       "      <td>21747</td>\n",
       "      <td>59.580822</td>\n",
       "    </tr>\n",
       "    <tr>\n",
       "      <th>...</th>\n",
       "      <td>...</td>\n",
       "      <td>...</td>\n",
       "      <td>...</td>\n",
       "      <td>...</td>\n",
       "      <td>...</td>\n",
       "      <td>...</td>\n",
       "      <td>...</td>\n",
       "      <td>...</td>\n",
       "      <td>...</td>\n",
       "      <td>...</td>\n",
       "      <td>...</td>\n",
       "      <td>...</td>\n",
       "      <td>...</td>\n",
       "    </tr>\n",
       "    <tr>\n",
       "      <th>578</th>\n",
       "      <td>fuerzadeventasindirecta</td>\n",
       "      <td>Fuerza de ventas indirecta</td>\n",
       "      <td>F</td>\n",
       "      <td>1979-10-21</td>\n",
       "      <td>EMP</td>\n",
       "      <td>GERENTE NEGOCIOS IV</td>\n",
       "      <td>185</td>\n",
       "      <td>2019-08-05</td>\n",
       "      <td>Admissão</td>\n",
       "      <td>a) Procedentes de empresas AJENAS AL GRUPO</td>\n",
       "      <td>Persona 21248</td>\n",
       "      <td>15574</td>\n",
       "      <td>42.668493</td>\n",
       "    </tr>\n",
       "    <tr>\n",
       "      <th>579</th>\n",
       "      <td>fuerzadeventasdirecta</td>\n",
       "      <td>Fuerza de ventas directa</td>\n",
       "      <td>F</td>\n",
       "      <td>1973-11-20</td>\n",
       "      <td>EMP</td>\n",
       "      <td>GERENTE NEGOCIOS V</td>\n",
       "      <td>185</td>\n",
       "      <td>2019-08-05</td>\n",
       "      <td>Admissão</td>\n",
       "      <td>a) Procedentes de empresas AJENAS AL GRUPO</td>\n",
       "      <td>Persona 21249</td>\n",
       "      <td>17735</td>\n",
       "      <td>48.589041</td>\n",
       "    </tr>\n",
       "    <tr>\n",
       "      <th>580</th>\n",
       "      <td>fuerzadeventasdirecta</td>\n",
       "      <td>Fuerza de ventas directa</td>\n",
       "      <td>M</td>\n",
       "      <td>1972-07-20</td>\n",
       "      <td>EMP</td>\n",
       "      <td>GERENTE NEGOCIOS III</td>\n",
       "      <td>185</td>\n",
       "      <td>2019-08-15</td>\n",
       "      <td>Admissão</td>\n",
       "      <td>a) Procedentes de empresas AJENAS AL GRUPO</td>\n",
       "      <td>Persona 21250</td>\n",
       "      <td>18223</td>\n",
       "      <td>49.926027</td>\n",
       "    </tr>\n",
       "    <tr>\n",
       "      <th>581</th>\n",
       "      <td>fuerzadeventasdirecta</td>\n",
       "      <td>Fuerza de ventas directa</td>\n",
       "      <td>F</td>\n",
       "      <td>1990-05-20</td>\n",
       "      <td>EMP</td>\n",
       "      <td>GERENTE NEGOCIOS II</td>\n",
       "      <td>185</td>\n",
       "      <td>2019-08-13</td>\n",
       "      <td>Admissão</td>\n",
       "      <td>a) Procedentes de empresas AJENAS AL GRUPO</td>\n",
       "      <td>Persona 21251</td>\n",
       "      <td>11710</td>\n",
       "      <td>32.082192</td>\n",
       "    </tr>\n",
       "    <tr>\n",
       "      <th>582</th>\n",
       "      <td>planificaciónycontrolling</td>\n",
       "      <td>Planificación y controlling</td>\n",
       "      <td>M</td>\n",
       "      <td>1989-09-21</td>\n",
       "      <td>EMP</td>\n",
       "      <td>ANALISTA QUALIDADE SR</td>\n",
       "      <td>185</td>\n",
       "      <td>2019-08-13</td>\n",
       "      <td>Admissão</td>\n",
       "      <td>a) Procedentes de empresas AJENAS AL GRUPO</td>\n",
       "      <td>Persona 21252</td>\n",
       "      <td>11951</td>\n",
       "      <td>32.742466</td>\n",
       "    </tr>\n",
       "  </tbody>\n",
       "</table>\n",
       "<p>583 rows × 13 columns</p>\n",
       "</div>"
      ],
      "text/plain": [
       "             Subactividad_desc                 Subactividad Genero  \\\n",
       "0     tecnologíayplanificación   Tecnología y Planificación      M   \n",
       "1     tecnologíayplanificación   Tecnología y Planificación      M   \n",
       "2            gestionydireccion          Gestión y Direccion      M   \n",
       "3            gestionydireccion          Gestión y Direccion      M   \n",
       "4         vigilanciayseguridad       Vigilancia y Seguridad      F   \n",
       "..                         ...                          ...    ...   \n",
       "578    fuerzadeventasindirecta   Fuerza de ventas indirecta      F   \n",
       "579      fuerzadeventasdirecta     Fuerza de ventas directa      F   \n",
       "580      fuerzadeventasdirecta     Fuerza de ventas directa      M   \n",
       "581      fuerzadeventasdirecta     Fuerza de ventas directa      F   \n",
       "582  planificaciónycontrolling  Planificación y controlling      M   \n",
       "\n",
       "    Fecha nacimiento Clase empleado           Nombre del puesto  \\\n",
       "0         1966-06-27            EMP  OPERADOR DE COMUNICACIONES   \n",
       "1         1970-12-20            EMP                 ASESOR BASE   \n",
       "2         1971-10-09            EMP  OPERADOR DE COMUNICACIONES   \n",
       "3         1971-01-03            EMP  OPERADOR DE COMUNICACIONES   \n",
       "4         1962-11-26            EMP              ADMINISTRATIVO   \n",
       "..               ...            ...                         ...   \n",
       "578       1979-10-21            EMP         GERENTE NEGOCIOS IV   \n",
       "579       1973-11-20            EMP          GERENTE NEGOCIOS V   \n",
       "580       1972-07-20            EMP        GERENTE NEGOCIOS III   \n",
       "581       1990-05-20            EMP         GERENTE NEGOCIOS II   \n",
       "582       1989-09-21            EMP       ANALISTA QUALIDADE SR   \n",
       "\n",
       "     COD. UNIDAD DE NEGOCIO Fecha alta         Tipo alta local  \\\n",
       "0                       156 2019-08-28  c.2) Reincorporaciones   \n",
       "1                       156 2019-08-09  c.2) Reincorporaciones   \n",
       "2                       156 2019-08-04  c.2) Reincorporaciones   \n",
       "3                       156 2019-08-13  c.2) Reincorporaciones   \n",
       "4                       156 2019-08-08  c.2) Reincorporaciones   \n",
       "..                      ...        ...                     ...   \n",
       "578                     185 2019-08-05                Admissão   \n",
       "579                     185 2019-08-05                Admissão   \n",
       "580                     185 2019-08-15                Admissão   \n",
       "581                     185 2019-08-13                Admissão   \n",
       "582                     185 2019-08-13                Admissão   \n",
       "\n",
       "                               Tipo alta global     ID Persona  edad (días)  \\\n",
       "0                        c.2) Reincorporaciones  Persona 19887        20438   \n",
       "1                        c.2) Reincorporaciones  Persona 19888        18801   \n",
       "2                        c.2) Reincorporaciones  Persona 19890        18508   \n",
       "3                        c.2) Reincorporaciones  Persona 19891        18787   \n",
       "4                        c.2) Reincorporaciones  Persona 19892        21747   \n",
       "..                                          ...            ...          ...   \n",
       "578  a) Procedentes de empresas AJENAS AL GRUPO  Persona 21248        15574   \n",
       "579  a) Procedentes de empresas AJENAS AL GRUPO  Persona 21249        17735   \n",
       "580  a) Procedentes de empresas AJENAS AL GRUPO  Persona 21250        18223   \n",
       "581  a) Procedentes de empresas AJENAS AL GRUPO  Persona 21251        11710   \n",
       "582  a) Procedentes de empresas AJENAS AL GRUPO  Persona 21252        11951   \n",
       "\n",
       "     edad (años)  \n",
       "0      55.994521  \n",
       "1      51.509589  \n",
       "2      50.706849  \n",
       "3      51.471233  \n",
       "4      59.580822  \n",
       "..           ...  \n",
       "578    42.668493  \n",
       "579    48.589041  \n",
       "580    49.926027  \n",
       "581    32.082192  \n",
       "582    32.742466  \n",
       "\n",
       "[583 rows x 13 columns]"
      ]
     },
     "execution_count": 409,
     "metadata": {},
     "output_type": "execute_result"
    }
   ],
   "source": [
    "df_altas"
   ]
  },
  {
   "cell_type": "code",
   "execution_count": 410,
   "id": "d76ae7e3",
   "metadata": {},
   "outputs": [
    {
     "data": {
      "text/plain": [
       "185    578\n",
       "156      5\n",
       "Name: COD. UNIDAD DE NEGOCIO, dtype: int64"
      ]
     },
     "execution_count": 410,
     "metadata": {},
     "output_type": "execute_result"
    }
   ],
   "source": [
    "df_altas['COD. UNIDAD DE NEGOCIO'].value_counts()"
   ]
  },
  {
   "cell_type": "code",
   "execution_count": 412,
   "id": "cf6ec535",
   "metadata": {},
   "outputs": [
    {
     "data": {
      "text/plain": [
       "Brasil    32412\n",
       "España    16019\n",
       "Name: Localización País, dtype: int64"
      ]
     },
     "execution_count": 412,
     "metadata": {},
     "output_type": "execute_result"
    }
   ],
   "source": [
    "plan19['Localización País'].value_counts()"
   ]
  },
  {
   "cell_type": "code",
   "execution_count": null,
   "id": "21a3051e",
   "metadata": {},
   "outputs": [],
   "source": []
  }
 ],
 "metadata": {
  "kernelspec": {
   "display_name": "Python 3 (ipykernel)",
   "language": "python",
   "name": "python3"
  },
  "language_info": {
   "codemirror_mode": {
    "name": "ipython",
    "version": 3
   },
   "file_extension": ".py",
   "mimetype": "text/x-python",
   "name": "python",
   "nbconvert_exporter": "python",
   "pygments_lexer": "ipython3",
   "version": "3.9.7"
  }
 },
 "nbformat": 4,
 "nbformat_minor": 5
}
